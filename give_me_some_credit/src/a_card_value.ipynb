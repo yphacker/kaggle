{
 "cells": [
  {
   "cell_type": "code",
   "execution_count": 1,
   "metadata": {},
   "outputs": [],
   "source": [
    "import numpy as np\n",
    "import pandas as pd\n",
    "import matplotlib.pyplot as plt"
   ]
  },
  {
   "cell_type": "code",
   "execution_count": 2,
   "metadata": {},
   "outputs": [],
   "source": [
    "df = pd.read_csv('analyze.csv')\n",
    "df.drop_duplicates(inplace=True)    # 去重\n",
    "# x = df.drop(columns = ['SeriousDlqin2yrs'])\n",
    "# y = df['SeriousDlqin2yrs']\n",
    "columns = df.columns.tolist()\n",
    "columns.remove('SeriousDlqin2yrs')"
   ]
  },
  {
   "cell_type": "markdown",
   "metadata": {},
   "source": [
    "WOE分箱\n",
    "取值分箱"
   ]
  },
  {
   "cell_type": "code",
   "execution_count": 3,
   "metadata": {},
   "outputs": [],
   "source": [
    "cut1 = pd.qcut(df[\"RevolvingUtilizationOfUnsecuredLines\"], 4, labels=False)\n",
    "cut2 = pd.qcut(df[\"age\"], 8, labels=False)\n",
    "bins3 = [-1,0,1,3,5,13]\n",
    "cut3 = pd.cut(df[\"NumberOfTime30-59DaysPastDueNotWorse\"], bins3, labels=False)\n",
    "cut4 = pd.qcut(df[\"DebtRatio\"], 3, labels=False)\n",
    "cut5 = pd.qcut(df[\"MonthlyIncome\"], 4, labels=False)\n",
    "cut6 = pd.qcut(df[\"NumberOfOpenCreditLinesAndLoans\"], 4, labels=False)\n",
    "bins7 = [-1, 0, 1, 3, 5, 20]\n",
    "cut7 = pd.cut(df[\"NumberOfTimes90DaysLate\"], bins7, labels=False)\n",
    "bins8 = [-1, 0, 1, 2, 3, 54]\n",
    "cut8 = pd.cut(df[\"NumberRealEstateLoansOrLines\"], bins8, labels=False)\n",
    "bins9 = [-1, 0, 1, 3, 12]\n",
    "cut9 = pd.cut(df[\"NumberOfTime60-89DaysPastDueNotWorse\"], bins9, labels=False)\n",
    "bins10 = [-1, 0, 1, 2, 3, 5, 21]\n",
    "cut10 = pd.cut(df[\"NumberOfDependents\"], bins10, labels=False)"
   ]
  },
  {
   "cell_type": "markdown",
   "metadata": {},
   "source": [
    "WOE值计算"
   ]
  },
  {
   "cell_type": "code",
   "execution_count": 4,
   "metadata": {},
   "outputs": [
    {
     "name": "stdout",
     "output_type": "stream",
     "text": [
      "NumberRealEstateLoansOrLines\n",
      "0    0.235478\n",
      "1   -0.245347\n",
      "2   -0.187261\n",
      "3    0.005120\n",
      "4    0.594782\n",
      "dtype: float64\n"
     ]
    }
   ],
   "source": [
    "rate = df[\"SeriousDlqin2yrs\"].sum() / (df[\"SeriousDlqin2yrs\"].count() - df[\"SeriousDlqin2yrs\"].sum())\n",
    "def get_woe_data(cut):\n",
    "    grouped = df[\"SeriousDlqin2yrs\"].groupby(cut, as_index=True).value_counts()\n",
    "    woe = np.log(grouped.unstack().iloc[:,1] / grouped.unstack().iloc[:, 0] / rate)\n",
    "    return woe\n",
    "cut1_woe = get_woe_data(cut1)\n",
    "cut2_woe = get_woe_data(cut2)\n",
    "cut3_woe = get_woe_data(cut3)\n",
    "cut4_woe = get_woe_data(cut4)\n",
    "cut5_woe = get_woe_data(cut5)\n",
    "cut6_woe = get_woe_data(cut6)\n",
    "cut7_woe = get_woe_data(cut7)\n",
    "cut8_woe = get_woe_data(cut8)\n",
    "print(cut8_woe)\n",
    "cut9_woe = get_woe_data(cut9)\n",
    "cut10_woe = get_woe_data(cut10)"
   ]
  },
  {
   "cell_type": "code",
   "execution_count": 5,
   "metadata": {},
   "outputs": [
    {
     "data": {
      "text/plain": [
       "<matplotlib.axes._subplots.AxesSubplot at 0x10fc540f0>"
      ]
     },
     "execution_count": 5,
     "metadata": {},
     "output_type": "execute_result"
    },
    {
     "data": {
      "image/png": "[encoded data removed]",
      "text/plain": [
       "<Figure size 432x288 with 1 Axes>"
      ]
     },
     "metadata": {
      "needs_background": "light"
     },
     "output_type": "display_data"
    }
   ],
   "source": [
    "cut1_woe.plot.bar(color='b', alpha=0.3, rot=0)"
   ]
  },
  {
   "cell_type": "code",
   "execution_count": 6,
   "metadata": {},
   "outputs": [
    {
     "data": {
      "text/plain": [
       "<matplotlib.axes._subplots.AxesSubplot at 0x11bd337f0>"
      ]
     },
     "execution_count": 6,
     "metadata": {},
     "output_type": "execute_result"
    },
    {
     "data": {
      "image/png": "[encoded data removed]",
      "text/plain": [
       "<Figure size 432x288 with 1 Axes>"
      ]
     },
     "metadata": {
      "needs_background": "light"
     },
     "output_type": "display_data"
    }
   ],
   "source": [
    "cut2_woe.plot.bar(color='b', alpha=0.3, rot=0)"
   ]
  },
  {
   "cell_type": "markdown",
   "metadata": {},
   "source": [
    "看出woe已调整到具有单调性"
   ]
  },
  {
   "cell_type": "code",
   "execution_count": 7,
   "metadata": {},
   "outputs": [
    {
     "data": {
      "text/html": [
       "<div>\n",
       "<style scoped>\n",
       "    .dataframe tbody tr th:only-of-type {\n",
       "        vertical-align: middle;\n",
       "    }\n",
       "\n",
       "    .dataframe tbody tr th {\n",
       "        vertical-align: top;\n",
       "    }\n",
       "\n",
       "    .dataframe thead th {\n",
       "        text-align: right;\n",
       "    }\n",
       "</style>\n",
       "<table border=\"1\" class=\"dataframe\">\n",
       "  <thead>\n",
       "    <tr style=\"text-align: right;\">\n",
       "      <th></th>\n",
       "      <th>IV</th>\n",
       "    </tr>\n",
       "  </thead>\n",
       "  <tbody>\n",
       "    <tr>\n",
       "      <th>RevolvingUtilizationOfUnsecuredLines</th>\n",
       "      <td>0.453200</td>\n",
       "    </tr>\n",
       "    <tr>\n",
       "      <th>age</th>\n",
       "      <td>0.104069</td>\n",
       "    </tr>\n",
       "    <tr>\n",
       "      <th>NumberOfTime30-59DaysPastDueNotWorse</th>\n",
       "      <td>0.392537</td>\n",
       "    </tr>\n",
       "    <tr>\n",
       "      <th>DebtRatio</th>\n",
       "      <td>0.009029</td>\n",
       "    </tr>\n",
       "    <tr>\n",
       "      <th>MonthlyIncome</th>\n",
       "      <td>0.030547</td>\n",
       "    </tr>\n",
       "    <tr>\n",
       "      <th>NumberOfOpenCreditLinesAndLoans</th>\n",
       "      <td>0.017495</td>\n",
       "    </tr>\n",
       "    <tr>\n",
       "      <th>NumberOfTimes90DaysLate</th>\n",
       "      <td>0.515579</td>\n",
       "    </tr>\n",
       "    <tr>\n",
       "      <th>NumberRealEstateLoansOrLines</th>\n",
       "      <td>0.028255</td>\n",
       "    </tr>\n",
       "    <tr>\n",
       "      <th>NumberOfTime60-89DaysPastDueNotWorse</th>\n",
       "      <td>0.336916</td>\n",
       "    </tr>\n",
       "    <tr>\n",
       "      <th>NumberOfDependents</th>\n",
       "      <td>0.016496</td>\n",
       "    </tr>\n",
       "  </tbody>\n",
       "</table>\n",
       "</div>"
      ],
      "text/plain": [
       "                                            IV\n",
       "RevolvingUtilizationOfUnsecuredLines  0.453200\n",
       "age                                   0.104069\n",
       "NumberOfTime30-59DaysPastDueNotWorse  0.392537\n",
       "DebtRatio                             0.009029\n",
       "MonthlyIncome                         0.030547\n",
       "NumberOfOpenCreditLinesAndLoans       0.017495\n",
       "NumberOfTimes90DaysLate               0.515579\n",
       "NumberRealEstateLoansOrLines          0.028255\n",
       "NumberOfTime60-89DaysPastDueNotWorse  0.336916\n",
       "NumberOfDependents                    0.016496"
      ]
     },
     "execution_count": 7,
     "metadata": {},
     "output_type": "execute_result"
    }
   ],
   "source": [
    "def get_IV_data(cut, cut_woe):\n",
    "    grouped = df[\"SeriousDlqin2yrs\"].groupby(cut,as_index=True).value_counts()\n",
    "    tmp1 = grouped.unstack().iloc[:,1]\n",
    "    tmp2 = df[\"SeriousDlqin2yrs\"].sum()\n",
    "    cut_IV = ((tmp1 / tmp2 - tmp1 / (df[\"SeriousDlqin2yrs\"].count() - tmp2)) * cut_woe).sum()    \n",
    "    return cut_IV\n",
    "\n",
    "#计算各分组的IV值\n",
    "cut1_IV = get_IV_data(cut1, cut1_woe)\n",
    "cut2_IV = get_IV_data(cut2, cut2_woe)\n",
    "cut3_IV = get_IV_data(cut3, cut3_woe)\n",
    "cut4_IV = get_IV_data(cut4, cut4_woe)\n",
    "cut5_IV = get_IV_data(cut5, cut5_woe)\n",
    "cut6_IV = get_IV_data(cut6, cut6_woe)\n",
    "cut7_IV = get_IV_data(cut7, cut7_woe)\n",
    "cut8_IV = get_IV_data(cut8, cut8_woe)\n",
    "cut9_IV = get_IV_data(cut9, cut9_woe)\n",
    "cut10_IV = get_IV_data(cut10, cut10_woe)\n",
    "IV = pd.DataFrame([cut1_IV, cut2_IV, cut3_IV, cut4_IV, cut5_IV, cut6_IV, cut7_IV, cut8_IV, cut9_IV, cut10_IV],\n",
    "                  index=columns, columns=['IV'])\n",
    "# ax = IV.plot.bar(color='b', alpha=0.3, rot=30, figsize=(15, 5), fontsize=(10))\n",
    "# ax.set_title('特征变量与IV值分布图',fontsize=(15))\n",
    "# ax.set_xlabel('特征变量',fontsize=(15))\n",
    "# ax.set_ylabel('IV',fontsize=(15))\n",
    "IV"
   ]
  },
  {
   "cell_type": "markdown",
   "metadata": {},
   "source": [
    "一般选取IV大于0.02的特征变量进行后续训练，从以上可以看出所有变量均满足，所以选取全部的"
   ]
  },
  {
   "cell_type": "markdown",
   "metadata": {},
   "source": [
    "WOE值替换"
   ]
  },
  {
   "cell_type": "code",
   "execution_count": 8,
   "metadata": {},
   "outputs": [
    {
     "name": "stdout",
     "output_type": "stream",
     "text": [
      "3\n",
      "2\n",
      "0\n",
      "1\n",
      "2\n",
      "1\n",
      "0\n",
      "3\n",
      "7\n",
      "4\n",
      "6\n",
      "5\n",
      "2\n",
      "0\n",
      "1\n",
      "3\n",
      "4\n",
      "2\n",
      "0\n",
      "1\n",
      "3\n",
      "0\n",
      "2\n",
      "1\n",
      "3\n",
      "0\n",
      "1\n",
      "2\n",
      "0\n",
      "1\n",
      "2\n",
      "3\n",
      "4\n",
      "4\n",
      "0\n",
      "1\n",
      "3\n",
      "2\n",
      "0\n",
      "1\n",
      "2\n",
      "3\n",
      "2\n",
      "1\n",
      "0\n",
      "3\n",
      "4\n",
      "5\n"
     ]
    },
    {
     "data": {
      "text/html": [
       "<div>\n",
       "<style scoped>\n",
       "    .dataframe tbody tr th:only-of-type {\n",
       "        vertical-align: middle;\n",
       "    }\n",
       "\n",
       "    .dataframe tbody tr th {\n",
       "        vertical-align: top;\n",
       "    }\n",
       "\n",
       "    .dataframe thead th {\n",
       "        text-align: right;\n",
       "    }\n",
       "</style>\n",
       "<table border=\"1\" class=\"dataframe\">\n",
       "  <thead>\n",
       "    <tr style=\"text-align: right;\">\n",
       "      <th></th>\n",
       "      <th>SeriousDlqin2yrs</th>\n",
       "      <th>RevolvingUtilizationOfUnsecuredLines</th>\n",
       "      <th>age</th>\n",
       "      <th>NumberOfTime30-59DaysPastDueNotWorse</th>\n",
       "      <th>DebtRatio</th>\n",
       "      <th>MonthlyIncome</th>\n",
       "      <th>NumberOfOpenCreditLinesAndLoans</th>\n",
       "      <th>NumberOfTimes90DaysLate</th>\n",
       "      <th>NumberRealEstateLoansOrLines</th>\n",
       "      <th>NumberOfTime60-89DaysPastDueNotWorse</th>\n",
       "      <th>NumberOfDependents</th>\n",
       "    </tr>\n",
       "  </thead>\n",
       "  <tbody>\n",
       "    <tr>\n",
       "      <th>0</th>\n",
       "      <td>1</td>\n",
       "      <td>1.101834</td>\n",
       "      <td>0.238509</td>\n",
       "      <td>1.735033</td>\n",
       "      <td>0.181979</td>\n",
       "      <td>-0.371651</td>\n",
       "      <td>-0.012742</td>\n",
       "      <td>-0.375256</td>\n",
       "      <td>0.594782</td>\n",
       "      <td>-0.272953</td>\n",
       "      <td>0.202612</td>\n",
       "    </tr>\n",
       "    <tr>\n",
       "      <th>1</th>\n",
       "      <td>0</td>\n",
       "      <td>1.101834</td>\n",
       "      <td>0.365959</td>\n",
       "      <td>-0.527540</td>\n",
       "      <td>-0.131963</td>\n",
       "      <td>0.313050</td>\n",
       "      <td>0.251244</td>\n",
       "      <td>-0.375256</td>\n",
       "      <td>0.235478</td>\n",
       "      <td>-0.272953</td>\n",
       "      <td>0.096812</td>\n",
       "    </tr>\n",
       "    <tr>\n",
       "      <th>2</th>\n",
       "      <td>0</td>\n",
       "      <td>1.101834</td>\n",
       "      <td>0.365959</td>\n",
       "      <td>0.903415</td>\n",
       "      <td>-0.131963</td>\n",
       "      <td>0.313050</td>\n",
       "      <td>0.251244</td>\n",
       "      <td>1.965152</td>\n",
       "      <td>0.235478</td>\n",
       "      <td>-0.272953</td>\n",
       "      <td>-0.153553</td>\n",
       "    </tr>\n",
       "    <tr>\n",
       "      <th>3</th>\n",
       "      <td>0</td>\n",
       "      <td>-0.294389</td>\n",
       "      <td>0.544728</td>\n",
       "      <td>-0.527540</td>\n",
       "      <td>-0.131963</td>\n",
       "      <td>0.313050</td>\n",
       "      <td>0.251244</td>\n",
       "      <td>-0.375256</td>\n",
       "      <td>0.235478</td>\n",
       "      <td>-0.272953</td>\n",
       "      <td>-0.153553</td>\n",
       "    </tr>\n",
       "    <tr>\n",
       "      <th>4</th>\n",
       "      <td>0</td>\n",
       "      <td>1.101834</td>\n",
       "      <td>0.142952</td>\n",
       "      <td>0.903415</td>\n",
       "      <td>-0.131963</td>\n",
       "      <td>-0.371651</td>\n",
       "      <td>-0.227685</td>\n",
       "      <td>-0.375256</td>\n",
       "      <td>-0.245347</td>\n",
       "      <td>-0.272953</td>\n",
       "      <td>-0.153553</td>\n",
       "    </tr>\n",
       "  </tbody>\n",
       "</table>\n",
       "</div>"
      ],
      "text/plain": [
       "   SeriousDlqin2yrs  RevolvingUtilizationOfUnsecuredLines       age  \\\n",
       "0                 1                              1.101834  0.238509   \n",
       "1                 0                              1.101834  0.365959   \n",
       "2                 0                              1.101834  0.365959   \n",
       "3                 0                             -0.294389  0.544728   \n",
       "4                 0                              1.101834  0.142952   \n",
       "\n",
       "   NumberOfTime30-59DaysPastDueNotWorse  DebtRatio  MonthlyIncome  \\\n",
       "0                              1.735033   0.181979      -0.371651   \n",
       "1                             -0.527540  -0.131963       0.313050   \n",
       "2                              0.903415  -0.131963       0.313050   \n",
       "3                             -0.527540  -0.131963       0.313050   \n",
       "4                              0.903415  -0.131963      -0.371651   \n",
       "\n",
       "   NumberOfOpenCreditLinesAndLoans  NumberOfTimes90DaysLate  \\\n",
       "0                        -0.012742                -0.375256   \n",
       "1                         0.251244                -0.375256   \n",
       "2                         0.251244                 1.965152   \n",
       "3                         0.251244                -0.375256   \n",
       "4                        -0.227685                -0.375256   \n",
       "\n",
       "   NumberRealEstateLoansOrLines  NumberOfTime60-89DaysPastDueNotWorse  \\\n",
       "0                      0.594782                             -0.272953   \n",
       "1                      0.235478                             -0.272953   \n",
       "2                      0.235478                             -0.272953   \n",
       "3                      0.235478                             -0.272953   \n",
       "4                     -0.245347                             -0.272953   \n",
       "\n",
       "   NumberOfDependents  \n",
       "0            0.202612  \n",
       "1            0.096812  \n",
       "2           -0.153553  \n",
       "3           -0.153553  \n",
       "4           -0.153553  "
      ]
     },
     "execution_count": 8,
     "metadata": {},
     "output_type": "execute_result"
    }
   ],
   "source": [
    "df_woe = pd.DataFrame()\n",
    "def replace_data(cut, cut_woe):\n",
    "    a = []\n",
    "    for i in cut.unique():\n",
    "        a.append(i)\n",
    "        a.sort()\n",
    "    for m in range(len(a)):\n",
    "        cut.replace(a[m], cut_woe.values[m], inplace=True)\n",
    "    return cut\n",
    "\n",
    "df_woe[\"SeriousDlqin2yrs\"] = df[\"SeriousDlqin2yrs\"]\n",
    "df_woe[\"RevolvingUtilizationOfUnsecuredLines\"] = replace_data(cut1, cut1_woe)\n",
    "df_woe[\"age\"] = replace_data(cut2, cut2_woe)\n",
    "df_woe[\"NumberOfTime30-59DaysPastDueNotWorse\"]  =  replace_data(cut3, cut3_woe)\n",
    "df_woe[\"DebtRatio\"]  =  replace_data(cut4, cut4_woe)\n",
    "df_woe[\"MonthlyIncome\"] = replace_data(cut5, cut5_woe)\n",
    "df_woe[\"NumberOfOpenCreditLinesAndLoans\"] = replace_data(cut6, cut6_woe)\n",
    "df_woe[\"NumberOfTimes90DaysLate\"] = replace_data(cut7, cut7_woe)\n",
    "df_woe[\"NumberRealEstateLoansOrLines\"] = replace_data(cut8, cut8_woe)\n",
    "df_woe[\"NumberOfTime60-89DaysPastDueNotWorse\"] = replace_data(cut9, cut9_woe)\n",
    "df_woe[\"NumberOfDependents\"] = replace_data(cut10, cut10_woe)\n",
    "df_woe.head()"
   ]
  },
  {
   "cell_type": "code",
   "execution_count": 9,
   "metadata": {},
   "outputs": [
    {
     "name": "stdout",
     "output_type": "stream",
     "text": [
      "测试成绩：0.9365346909291046\n"
     ]
    }
   ],
   "source": [
    "from sklearn.linear_model import LogisticRegression\n",
    "from sklearn.model_selection import train_test_split\n",
    "x = df_woe.iloc[:,1:]\n",
    "y = df_woe.iloc[:,:1].values.ravel()\n",
    "x_train,x_test,y_train,y_test = train_test_split(x,y,test_size=0.6,random_state=0)\n",
    "model = LogisticRegression(solver='liblinear')\n",
    "clf = model.fit(x_train,y_train)\n",
    "print('测试成绩：{}'.format(clf.score(x_test,y_test)))"
   ]
  },
  {
   "cell_type": "code",
   "execution_count": 10,
   "metadata": {},
   "outputs": [
    {
     "data": {
      "text/plain": [
       "array([[ 0.57684127,  0.46468942,  0.57275774,  1.1002474 ,  0.36439119,\n",
       "        -0.08197267,  0.5674546 ,  0.79250196,  0.40374589,  0.30745006]])"
      ]
     },
     "execution_count": 10,
     "metadata": {},
     "output_type": "execute_result"
    }
   ],
   "source": [
    "coe = clf.coef_        #特征权值系数，后面转换为打分规则时会用到\n",
    "coe"
   ]
  },
  {
   "cell_type": "code",
   "execution_count": 11,
   "metadata": {},
   "outputs": [],
   "source": [
    "y_pred = clf.predict(x_test)"
   ]
  },
  {
   "cell_type": "code",
   "execution_count": 12,
   "metadata": {},
   "outputs": [
    {
     "data": {
      "image/png": "[encoded data removed]",
      "text/plain": [
       "<Figure size 432x288 with 1 Axes>"
      ]
     },
     "metadata": {
      "needs_background": "light"
     },
     "output_type": "display_data"
    },
    {
     "data": {
      "text/plain": [
       "0.5871548442433668"
      ]
     },
     "execution_count": 12,
     "metadata": {},
     "output_type": "execute_result"
    }
   ],
   "source": [
    "from sklearn.metrics import roc_curve, auc\n",
    "fpr, tpr, threshold = roc_curve(y_test, y_pred)\n",
    "roc_auc = auc(fpr, tpr)\n",
    "plt.plot(fpr, tpr, color='darkorange', label='ROC curve (area = %0.2f)' % roc_auc)\n",
    "plt.plot([0, 1], [0, 1], color='navy',  linestyle='--')\n",
    "plt.xlim([0.0, 1.0])\n",
    "plt.ylim([0.0, 1.0])\n",
    "plt.xlabel('False Positive Rate')\n",
    "plt.ylabel('True Positive Rate')\n",
    "plt.title('ROC_curve')\n",
    "plt.legend(loc=\"lower right\")\n",
    "plt.show()\n",
    "roc_auc "
   ]
  },
  {
   "cell_type": "code",
   "execution_count": 13,
   "metadata": {},
   "outputs": [
    {
     "data": {
      "image/png": "[encoded data removed]",
      "text/plain": [
       "<Figure size 432x288 with 1 Axes>"
      ]
     },
     "metadata": {
      "needs_background": "light"
     },
     "output_type": "display_data"
    },
    {
     "data": {
      "text/plain": [
       "<Figure size 1440x1440 with 0 Axes>"
      ]
     },
     "metadata": {},
     "output_type": "display_data"
    }
   ],
   "source": [
    "fig, ax = plt.subplots() \n",
    "ax.plot(1 - threshold, tpr, label='tpr') # ks曲线要按照预测概率降序排列，所以需要1-threshold镜像 \n",
    "ax.plot(1 - threshold, fpr, label='fpr') \n",
    "ax.plot(1 - threshold, tpr-fpr,label='KS') \n",
    "plt.xlabel('score') \n",
    "plt.title('KS Curve') \n",
    "plt.ylim([0.0, 1.0]) \n",
    "plt.figure(figsize=(20,20)) \n",
    "legend = ax.legend(loc='upper left') \n",
    "plt.show()"
   ]
  },
  {
   "cell_type": "code",
   "execution_count": 14,
   "metadata": {},
   "outputs": [
    {
     "data": {
      "text/plain": [
       "0.1743096884867338"
      ]
     },
     "execution_count": 14,
     "metadata": {},
     "output_type": "execute_result"
    }
   ],
   "source": [
    "max(tpr - fpr)"
   ]
  },
  {
   "cell_type": "markdown",
   "metadata": {},
   "source": [
    "模型结果转评分"
   ]
  },
  {
   "cell_type": "code",
   "execution_count": 15,
   "metadata": {},
   "outputs": [
    {
     "name": "stdout",
     "output_type": "stream",
     "text": [
      "RevolvingUtilizationOfUnsecuredLines score:[-22.0, -20.0, -5.0, 18.0]\n",
      "age score:[7.0, 5.0, 3.0, 2.0, -1.0, -5.0, -11.0, -14.0]\n",
      "NumberOfTime30-59DaysPastDueNotWorse score:[-9.0, 15.0, 29.0, 39.0, 44.0]\n",
      "DebtRatio score:[-4.0, -2.0, 6.0]\n",
      "MonthlyIncome:[3.0, 1.0, -2.0, -4.0]\n",
      "NumberOfOpenCreditLinesAndLoans score:[-1.0, 1.0, 0.0, 0.0]\n",
      "NumberOfTimes90DaysLate score:[-6.0, 32.0, 45.0, 54.0, 54.0]\n",
      "NumberRealEstateLoansOrLines score:[5.0, -6.0, -4.0, 0.0, 14.0]\n",
      "NumberOfTime60-89DaysPastDueNotWorse score:[-3.0, 21.0, 31.0, 37.0]\n",
      "NumberOfDependents score:[-1.0, 1.0, 2.0, 3.0, 4.0, 6.0]\n"
     ]
    }
   ],
   "source": [
    "factor = 20 / np.log(2)\n",
    "offset = 600 - 20 * np.log(20) / np.log(2)\n",
    "def get_score(coe,woe,factor):\n",
    "    scores=[]\n",
    "    for w in woe:\n",
    "        score=round(coe*w*factor,0)\n",
    "        scores.append(score)\n",
    "    return scores\n",
    "x1 = get_score(coe[0][0], cut1_woe, factor)\n",
    "x2 = get_score(coe[0][1], cut2_woe, factor)\n",
    "x3 = get_score(coe[0][2], cut3_woe, factor)\n",
    "x4 = get_score(coe[0][3], cut4_woe, factor)\n",
    "x5 = get_score(coe[0][4], cut5_woe, factor)\n",
    "x6 = get_score(coe[0][5], cut6_woe, factor)\n",
    "x7 = get_score(coe[0][6], cut7_woe, factor)\n",
    "x8 = get_score(coe[0][7], cut8_woe, factor)\n",
    "x9 = get_score(coe[0][8], cut9_woe, factor)\n",
    "x10 = get_score(coe[0][9], cut10_woe, factor)\n",
    "print(\"RevolvingUtilizationOfUnsecuredLines score:{}\".format(x1))\n",
    "print(\"age score:{}\".format(x2))\n",
    "print(\"NumberOfTime30-59DaysPastDueNotWorse score:{}\".format(x3))\n",
    "print(\"DebtRatio score:{}\".format(x4))\n",
    "print(\"MonthlyIncome:{}\".format(x5))\n",
    "print(\"NumberOfOpenCreditLinesAndLoans score:{}\".format(x6))\n",
    "print(\"NumberOfTimes90DaysLate score:{}\".format(x7))\n",
    "print(\"NumberRealEstateLoansOrLines score:{}\".format(x8))\n",
    "print(\"NumberOfTime60-89DaysPastDueNotWorse score:{}\".format(x9))\n",
    "print(\"NumberOfDependents score:{}\".format(x10))"
   ]
  },
  {
   "cell_type": "markdown",
   "metadata": {},
   "source": [
    "计算用户总分"
   ]
  },
  {
   "cell_type": "code",
   "execution_count": 16,
   "metadata": {},
   "outputs": [],
   "source": [
    "def compute_score(series,bins,score):\n",
    "    list = []\n",
    "    i = 0\n",
    "    while i < len(series):\n",
    "        value = series[i]\n",
    "        j = len(bins) - 2\n",
    "        m = len(bins) - 2\n",
    "        while j >= 0:\n",
    "            if value >= bins[j]:\n",
    "                j = -1\n",
    "            else:\n",
    "                j -= 1\n",
    "                m -= 1\n",
    "        list.append(score[m])\n",
    "        i += 1\n",
    "    return list\n",
    "# test1 = pd.read_csv(path2)\n",
    "# test1['x1'] = pd.Series(compute_score(test1['RevolvingUtilizationOfUnsecuredLines'], bins1, x1))\n",
    "# test1['x2'] = pd.Series(compute_score(test1['age'], bins2, x2))\n",
    "# test1['x3'] = pd.Series(compute_score(test1['NumberOfTime30-59DaysPastDueNotWorse'], bins3, x3))\n",
    "# test1['x4'] = pd.Series(compute_score(test1['DebtRatio'], bins4, x4))\n",
    "# test1['x5'] = pd.Series(compute_score(test1['MonthlyIncome'], bins5, x5))\n",
    "# test1['x6'] = pd.Series(compute_score(test1['NumberOfOpenCreditLinesAndLoans'], bins6, x6))\n",
    "# test1['x7'] = pd.Series(compute_score(test1['NumberOfTimes90DaysLate'], bins7, x7))\n",
    "# test1['x8'] = pd.Series(compute_score(test1['NumberRealEstateLoansOrLines'], bins8, x8))\n",
    "# test1['x9'] = pd.Series(compute_score(test1['NumberOfTime60-89DaysPastDueNotWorse'], bins9, x9))\n",
    "# test1['x10'] = pd.Series(compute_score(test1['NumberOfDependents'], bins10, x10))\n",
    "# test1['Score'] = test1['x1']+test1['x2']+test1['x3']+test1['x4']+test1['x5']+test1['x6']+test1['x7']+test1['x8']+test1['x9']+test1['x10']+600\n",
    "# test1.to_csv(, index=False)"
   ]
  }
 ],
 "metadata": {
  "kernelspec": {
   "display_name": "Python 3",
   "language": "python",
   "name": "python3"
  },
  "language_info": {
   "codemirror_mode": {
    "name": "ipython",
    "version": 3
   },
   "file_extension": ".py",
   "mimetype": "text/x-python",
   "name": "python",
   "nbconvert_exporter": "python",
   "pygments_lexer": "ipython3",
   "version": "3.6.9"
  }
 },
 "nbformat": 4,
 "nbformat_minor": 2
}
