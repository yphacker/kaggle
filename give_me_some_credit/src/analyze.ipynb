{
 "cells": [
  {
   "cell_type": "code",
   "execution_count": 1,
   "metadata": {},
   "outputs": [],
   "source": [
    "import numpy as np\n",
    "import pandas as pd\n",
    "import matplotlib.pyplot as plt"
   ]
  },
  {
   "cell_type": "code",
   "execution_count": 2,
   "metadata": {},
   "outputs": [
    {
     "data": {
      "text/html": [
       "<div>\n",
       "<style scoped>\n",
       "    .dataframe tbody tr th:only-of-type {\n",
       "        vertical-align: middle;\n",
       "    }\n",
       "\n",
       "    .dataframe tbody tr th {\n",
       "        vertical-align: top;\n",
       "    }\n",
       "\n",
       "    .dataframe thead th {\n",
       "        text-align: right;\n",
       "    }\n",
       "</style>\n",
       "<table border=\"1\" class=\"dataframe\">\n",
       "  <thead>\n",
       "    <tr style=\"text-align: right;\">\n",
       "      <th></th>\n",
       "      <th>SeriousDlqin2yrs</th>\n",
       "      <th>RevolvingUtilizationOfUnsecuredLines</th>\n",
       "      <th>age</th>\n",
       "      <th>NumberOfTime30-59DaysPastDueNotWorse</th>\n",
       "      <th>DebtRatio</th>\n",
       "      <th>MonthlyIncome</th>\n",
       "      <th>NumberOfOpenCreditLinesAndLoans</th>\n",
       "      <th>NumberOfTimes90DaysLate</th>\n",
       "      <th>NumberRealEstateLoansOrLines</th>\n",
       "      <th>NumberOfTime60-89DaysPastDueNotWorse</th>\n",
       "      <th>NumberOfDependents</th>\n",
       "    </tr>\n",
       "  </thead>\n",
       "  <tbody>\n",
       "    <tr>\n",
       "      <th>1</th>\n",
       "      <td>1</td>\n",
       "      <td>0.766127</td>\n",
       "      <td>45</td>\n",
       "      <td>2</td>\n",
       "      <td>0.802982</td>\n",
       "      <td>9120.0</td>\n",
       "      <td>13</td>\n",
       "      <td>0</td>\n",
       "      <td>6</td>\n",
       "      <td>0</td>\n",
       "      <td>2.0</td>\n",
       "    </tr>\n",
       "    <tr>\n",
       "      <th>2</th>\n",
       "      <td>0</td>\n",
       "      <td>0.957151</td>\n",
       "      <td>40</td>\n",
       "      <td>0</td>\n",
       "      <td>0.121876</td>\n",
       "      <td>2600.0</td>\n",
       "      <td>4</td>\n",
       "      <td>0</td>\n",
       "      <td>0</td>\n",
       "      <td>0</td>\n",
       "      <td>1.0</td>\n",
       "    </tr>\n",
       "    <tr>\n",
       "      <th>3</th>\n",
       "      <td>0</td>\n",
       "      <td>0.658180</td>\n",
       "      <td>38</td>\n",
       "      <td>1</td>\n",
       "      <td>0.085113</td>\n",
       "      <td>3042.0</td>\n",
       "      <td>2</td>\n",
       "      <td>1</td>\n",
       "      <td>0</td>\n",
       "      <td>0</td>\n",
       "      <td>0.0</td>\n",
       "    </tr>\n",
       "    <tr>\n",
       "      <th>4</th>\n",
       "      <td>0</td>\n",
       "      <td>0.233810</td>\n",
       "      <td>30</td>\n",
       "      <td>0</td>\n",
       "      <td>0.036050</td>\n",
       "      <td>3300.0</td>\n",
       "      <td>5</td>\n",
       "      <td>0</td>\n",
       "      <td>0</td>\n",
       "      <td>0</td>\n",
       "      <td>0.0</td>\n",
       "    </tr>\n",
       "    <tr>\n",
       "      <th>5</th>\n",
       "      <td>0</td>\n",
       "      <td>0.907239</td>\n",
       "      <td>49</td>\n",
       "      <td>1</td>\n",
       "      <td>0.024926</td>\n",
       "      <td>63588.0</td>\n",
       "      <td>7</td>\n",
       "      <td>0</td>\n",
       "      <td>1</td>\n",
       "      <td>0</td>\n",
       "      <td>0.0</td>\n",
       "    </tr>\n",
       "  </tbody>\n",
       "</table>\n",
       "</div>"
      ],
      "text/plain": [
       "   SeriousDlqin2yrs  RevolvingUtilizationOfUnsecuredLines  age  \\\n",
       "1                 1                              0.766127   45   \n",
       "2                 0                              0.957151   40   \n",
       "3                 0                              0.658180   38   \n",
       "4                 0                              0.233810   30   \n",
       "5                 0                              0.907239   49   \n",
       "\n",
       "   NumberOfTime30-59DaysPastDueNotWorse  DebtRatio  MonthlyIncome  \\\n",
       "1                                     2   0.802982         9120.0   \n",
       "2                                     0   0.121876         2600.0   \n",
       "3                                     1   0.085113         3042.0   \n",
       "4                                     0   0.036050         3300.0   \n",
       "5                                     1   0.024926        63588.0   \n",
       "\n",
       "   NumberOfOpenCreditLinesAndLoans  NumberOfTimes90DaysLate  \\\n",
       "1                               13                        0   \n",
       "2                                4                        0   \n",
       "3                                2                        1   \n",
       "4                                5                        0   \n",
       "5                                7                        0   \n",
       "\n",
       "   NumberRealEstateLoansOrLines  NumberOfTime60-89DaysPastDueNotWorse  \\\n",
       "1                             6                                     0   \n",
       "2                             0                                     0   \n",
       "3                             0                                     0   \n",
       "4                             0                                     0   \n",
       "5                             1                                     0   \n",
       "\n",
       "   NumberOfDependents  \n",
       "1                 2.0  \n",
       "2                 1.0  \n",
       "3                 0.0  \n",
       "4                 0.0  \n",
       "5                 0.0  "
      ]
     },
     "execution_count": 2,
     "metadata": {},
     "output_type": "execute_result"
    }
   ],
   "source": [
    "train = pd.read_csv('../data/cs-training.csv', index_col=[0])\n",
    "columns = train.columns.tolist()\n",
    "train.head()"
   ]
  },
  {
   "cell_type": "markdown",
   "metadata": {},
   "source": [
    "ID——用户编号  \n",
    "SeriousDlqin2yrs——好坏客户区分，这里以逾期90天为界，超过90天表示“坏客户”，用1表示是；未超过90天表示“好客户”，用0表示  \n",
    "RevolvingUtilizationOfUnsecuredLines——贷款以及信用卡可以用额度与总额度比值  \n",
    "age——借款人的年龄  \n",
    "NumberOfTime30-59DaysPastDueNotWorse——借款人逾期30-59天但过去两年不是坏账的次数（笔数）  \n",
    "DebtRatio——负债率，每月要支付的债务、赡养费、生活费占每月总收入的比值  \n",
    "MonthlyIncome——月收入  \n",
    "NumberOfOpenCreditLinesAndLoans——贷款和信用卡数量  \n",
    "NumberOfTimes90DaysLate——逾期90天的次数  \n",
    "NumberRealEstateLoansOrLines——固定资产贷款数量  \n",
    "NumberOfTime60-89DaysPastDueNotWorse——逾期60-89天次数  \n",
    "NumberOfDependents——家属数量  "
   ]
  },
  {
   "cell_type": "code",
   "execution_count": 3,
   "metadata": {},
   "outputs": [],
   "source": [
    "# columns = {'SeriousDlqin2yrs':'好坏客户',\n",
    "#         'RevolvingUtilizationOfUnsecuredLines':'可用额度比值',\n",
    "#         'age':'年龄',\n",
    "#         'NumberOfTime30-59DaysPastDueNotWorse':'逾期30-59天笔数',\n",
    "#         'DebtRatio':'负债率',\n",
    "#         'MonthlyIncome':'月收入',\n",
    "#         'NumberOfOpenCreditLinesAndLoans':'信贷数量',\n",
    "#         'NumberOfTimes90DaysLate':'逾期90天笔数',\n",
    "#         'NumberRealEstateLoansOrLines':'固定资产贷款量',\n",
    "#         'NumberOfTime60-89DaysPastDueNotWorse':'逾期60-89天笔数',\n",
    "#         'NumberOfDependents':'家属数量'}\n",
    "# df.rename(columns=columns, inplace=True)\n",
    "# df.head()"
   ]
  },
  {
   "cell_type": "code",
   "execution_count": 4,
   "metadata": {},
   "outputs": [
    {
     "name": "stdout",
     "output_type": "stream",
     "text": [
      "<class 'pandas.core.frame.DataFrame'>\n",
      "Int64Index: 150000 entries, 1 to 150000\n",
      "Data columns (total 11 columns):\n",
      "SeriousDlqin2yrs                        150000 non-null int64\n",
      "RevolvingUtilizationOfUnsecuredLines    150000 non-null float64\n",
      "age                                     150000 non-null int64\n",
      "NumberOfTime30-59DaysPastDueNotWorse    150000 non-null int64\n",
      "DebtRatio                               150000 non-null float64\n",
      "MonthlyIncome                           120269 non-null float64\n",
      "NumberOfOpenCreditLinesAndLoans         150000 non-null int64\n",
      "NumberOfTimes90DaysLate                 150000 non-null int64\n",
      "NumberRealEstateLoansOrLines            150000 non-null int64\n",
      "NumberOfTime60-89DaysPastDueNotWorse    150000 non-null int64\n",
      "NumberOfDependents                      146076 non-null float64\n",
      "dtypes: float64(4), int64(7)\n",
      "memory usage: 13.7 MB\n"
     ]
    },
    {
     "data": {
      "text/plain": [
       "0    139974\n",
       "1     10026\n",
       "Name: SeriousDlqin2yrs, dtype: int64"
      ]
     },
     "execution_count": 4,
     "metadata": {},
     "output_type": "execute_result"
    }
   ],
   "source": [
    "# 查看数据维度\n",
    "train.shape\n",
    "# 查看数据类型和缺失值\n",
    "train.info()\n",
    "# 查看标签分布\n",
    "train['SeriousDlqin2yrs'].value_counts()"
   ]
  },
  {
   "cell_type": "markdown",
   "metadata": {},
   "source": [
    "去除重复值"
   ]
  },
  {
   "cell_type": "code",
   "execution_count": 5,
   "metadata": {},
   "outputs": [
    {
     "data": {
      "text/plain": [
       "(149391, 11)"
      ]
     },
     "execution_count": 5,
     "metadata": {},
     "output_type": "execute_result"
    }
   ],
   "source": [
    "train.drop_duplicates(inplace=True)    # 去重\n",
    "train.index = range(train.shape[0])    # 重置索引\n",
    "train.shape"
   ]
  },
  {
   "cell_type": "code",
   "execution_count": 6,
   "metadata": {},
   "outputs": [
    {
     "data": {
      "text/plain": [
       "SeriousDlqin2yrs                        0.000000\n",
       "RevolvingUtilizationOfUnsecuredLines    0.000000\n",
       "age                                     0.000000\n",
       "NumberOfTime30-59DaysPastDueNotWorse    0.000000\n",
       "DebtRatio                               0.000000\n",
       "MonthlyIncome                           0.195601\n",
       "NumberOfOpenCreditLinesAndLoans         0.000000\n",
       "NumberOfTimes90DaysLate                 0.000000\n",
       "NumberRealEstateLoansOrLines            0.000000\n",
       "NumberOfTime60-89DaysPastDueNotWorse    0.000000\n",
       "NumberOfDependents                      0.025624\n",
       "dtype: float64"
      ]
     },
     "execution_count": 6,
     "metadata": {},
     "output_type": "execute_result"
    }
   ],
   "source": [
    "# 查看缺失值情况\n",
    "# print(data.isnull().sum())\n",
    "train.isnull().mean()"
   ]
  },
  {
   "cell_type": "markdown",
   "metadata": {},
   "source": [
    "可以看到，MonthlyIncome，缺失比比较高，不能直接删除，利用填充平均值的方法进行补充，NumberOfDependents，缺失比只有2.6%，直接删除"
   ]
  },
  {
   "cell_type": "code",
   "execution_count": 7,
   "metadata": {},
   "outputs": [],
   "source": [
    "# # 查看缺失值分布形态\n",
    "# null_list = ['MonthlyIncome', 'NumberOfDependents']\n",
    "# for col in null_list:\n",
    "#     plt.style.use('bmh')\n",
    "#     plt.hist(train[col].dropna().values)\n",
    "#     plt.show()"
   ]
  },
  {
   "cell_type": "code",
   "execution_count": 8,
   "metadata": {},
   "outputs": [],
   "source": [
    "train['MonthlyIncome'].fillna(train['MonthlyIncome'].mean(),inplace=True)\n",
    "train['NumberOfDependents'].fillna(train['NumberOfDependents'].median(), inplace=True)"
   ]
  },
  {
   "cell_type": "code",
   "execution_count": 9,
   "metadata": {},
   "outputs": [],
   "source": [
    "# # 定义随机森林填补函数\n",
    "# def fill_missing_rf(X, y, to_fill):\n",
    "#     \"\"\"\n",
    "#     使用随机森林填补一个特征的缺失值的函数\n",
    "#     参数：\n",
    "#     x：要填补的特征矩阵\n",
    "#     y：完整的，没有缺失值的标签\n",
    "#     to_fill：字符串，要填补的那一列的名称\n",
    "#     \"\"\"\n",
    "#     #构建我们的新特征矩阵和新标签\n",
    "#     df = X.copy()\n",
    "#     fill = df.loc[:,to_fill]\n",
    "#     df = pd.concat([df.loc[:,df.columns != to_fill],pd.DataFrame(y)],axis=1)\n",
    "    \n",
    "#     #找出我们的训练集和测试集\n",
    "#     Ytrain = fill[fill.notnull()]\n",
    "#     Ytest = fill[fill.isnull()]\n",
    "#     Xtrain = df.iloc[Ytrain.index,:]\n",
    "#     Xtest = df.iloc[Ytest.index,:]\n",
    "    \n",
    "#     #用随机森林回归来填补缺失值\n",
    "#     from sklearn.ensemble import RandomForestRegressor as rfr\n",
    "#     rfr = rfr(n_estimators=100)\n",
    "#     rfr = rfr.fit(Xtrain, Ytrain)\n",
    "#     y_pred = rfr.predict(Xtest)\n",
    "    \n",
    "#     return y_pred"
   ]
  },
  {
   "cell_type": "code",
   "execution_count": 10,
   "metadata": {},
   "outputs": [],
   "source": [
    "# X = df.iloc[:,1:]\n",
    "# y = df['SeriousDlqin2yrs']\n",
    "\n",
    "# y_pred = fill_missing_rf(X, y, '月收入')\n",
    "# df.loc[df.loc[:,'月收入'].isnull(), '月收入'] = y_pred"
   ]
  },
  {
   "cell_type": "markdown",
   "metadata": {},
   "source": [
    "异常值处理"
   ]
  },
  {
   "cell_type": "code",
   "execution_count": 11,
   "metadata": {},
   "outputs": [
    {
     "data": {
      "text/html": [
       "<div>\n",
       "<style scoped>\n",
       "    .dataframe tbody tr th:only-of-type {\n",
       "        vertical-align: middle;\n",
       "    }\n",
       "\n",
       "    .dataframe tbody tr th {\n",
       "        vertical-align: top;\n",
       "    }\n",
       "\n",
       "    .dataframe thead th {\n",
       "        text-align: right;\n",
       "    }\n",
       "</style>\n",
       "<table border=\"1\" class=\"dataframe\">\n",
       "  <thead>\n",
       "    <tr style=\"text-align: right;\">\n",
       "      <th></th>\n",
       "      <th>count</th>\n",
       "      <th>mean</th>\n",
       "      <th>std</th>\n",
       "      <th>min</th>\n",
       "      <th>1%</th>\n",
       "      <th>10%</th>\n",
       "      <th>50%</th>\n",
       "      <th>90%</th>\n",
       "      <th>99%</th>\n",
       "      <th>max</th>\n",
       "    </tr>\n",
       "  </thead>\n",
       "  <tbody>\n",
       "    <tr>\n",
       "      <th>SeriousDlqin2yrs</th>\n",
       "      <td>145563.0</td>\n",
       "      <td>0.067538</td>\n",
       "      <td>0.250952</td>\n",
       "      <td>0.0</td>\n",
       "      <td>0.0</td>\n",
       "      <td>0.000000</td>\n",
       "      <td>0.000000</td>\n",
       "      <td>0.000000</td>\n",
       "      <td>1.000000</td>\n",
       "      <td>1.0</td>\n",
       "    </tr>\n",
       "    <tr>\n",
       "      <th>RevolvingUtilizationOfUnsecuredLines</th>\n",
       "      <td>145563.0</td>\n",
       "      <td>5.941378</td>\n",
       "      <td>250.510835</td>\n",
       "      <td>0.0</td>\n",
       "      <td>0.0</td>\n",
       "      <td>0.003455</td>\n",
       "      <td>0.158817</td>\n",
       "      <td>0.976557</td>\n",
       "      <td>1.093822</td>\n",
       "      <td>50708.0</td>\n",
       "    </tr>\n",
       "    <tr>\n",
       "      <th>age</th>\n",
       "      <td>145563.0</td>\n",
       "      <td>52.110701</td>\n",
       "      <td>14.567652</td>\n",
       "      <td>0.0</td>\n",
       "      <td>24.0</td>\n",
       "      <td>33.000000</td>\n",
       "      <td>52.000000</td>\n",
       "      <td>72.000000</td>\n",
       "      <td>86.000000</td>\n",
       "      <td>107.0</td>\n",
       "    </tr>\n",
       "    <tr>\n",
       "      <th>NumberOfTime30-59DaysPastDueNotWorse</th>\n",
       "      <td>145563.0</td>\n",
       "      <td>0.389185</td>\n",
       "      <td>3.756944</td>\n",
       "      <td>0.0</td>\n",
       "      <td>0.0</td>\n",
       "      <td>0.000000</td>\n",
       "      <td>0.000000</td>\n",
       "      <td>1.000000</td>\n",
       "      <td>4.000000</td>\n",
       "      <td>98.0</td>\n",
       "    </tr>\n",
       "    <tr>\n",
       "      <th>DebtRatio</th>\n",
       "      <td>145563.0</td>\n",
       "      <td>334.548251</td>\n",
       "      <td>1947.228209</td>\n",
       "      <td>0.0</td>\n",
       "      <td>0.0</td>\n",
       "      <td>0.034398</td>\n",
       "      <td>0.359090</td>\n",
       "      <td>1150.000000</td>\n",
       "      <td>4934.380000</td>\n",
       "      <td>329664.0</td>\n",
       "    </tr>\n",
       "    <tr>\n",
       "      <th>MonthlyIncome</th>\n",
       "      <td>145563.0</td>\n",
       "      <td>6675.098269</td>\n",
       "      <td>13074.358896</td>\n",
       "      <td>0.0</td>\n",
       "      <td>0.0</td>\n",
       "      <td>2300.000000</td>\n",
       "      <td>6400.000000</td>\n",
       "      <td>10833.000000</td>\n",
       "      <td>23334.380000</td>\n",
       "      <td>3008750.0</td>\n",
       "    </tr>\n",
       "    <tr>\n",
       "      <th>NumberOfOpenCreditLinesAndLoans</th>\n",
       "      <td>145563.0</td>\n",
       "      <td>8.553788</td>\n",
       "      <td>5.141132</td>\n",
       "      <td>0.0</td>\n",
       "      <td>0.0</td>\n",
       "      <td>3.000000</td>\n",
       "      <td>8.000000</td>\n",
       "      <td>15.000000</td>\n",
       "      <td>25.000000</td>\n",
       "      <td>58.0</td>\n",
       "    </tr>\n",
       "    <tr>\n",
       "      <th>NumberOfTimes90DaysLate</th>\n",
       "      <td>145563.0</td>\n",
       "      <td>0.231309</td>\n",
       "      <td>3.728803</td>\n",
       "      <td>0.0</td>\n",
       "      <td>0.0</td>\n",
       "      <td>0.000000</td>\n",
       "      <td>0.000000</td>\n",
       "      <td>0.000000</td>\n",
       "      <td>3.000000</td>\n",
       "      <td>98.0</td>\n",
       "    </tr>\n",
       "    <tr>\n",
       "      <th>NumberRealEstateLoansOrLines</th>\n",
       "      <td>145563.0</td>\n",
       "      <td>1.033346</td>\n",
       "      <td>1.133115</td>\n",
       "      <td>0.0</td>\n",
       "      <td>0.0</td>\n",
       "      <td>0.000000</td>\n",
       "      <td>1.000000</td>\n",
       "      <td>2.000000</td>\n",
       "      <td>5.000000</td>\n",
       "      <td>54.0</td>\n",
       "    </tr>\n",
       "    <tr>\n",
       "      <th>NumberOfTime60-89DaysPastDueNotWorse</th>\n",
       "      <td>145563.0</td>\n",
       "      <td>0.205622</td>\n",
       "      <td>3.712455</td>\n",
       "      <td>0.0</td>\n",
       "      <td>0.0</td>\n",
       "      <td>0.000000</td>\n",
       "      <td>0.000000</td>\n",
       "      <td>0.000000</td>\n",
       "      <td>2.000000</td>\n",
       "      <td>98.0</td>\n",
       "    </tr>\n",
       "    <tr>\n",
       "      <th>NumberOfDependents</th>\n",
       "      <td>145563.0</td>\n",
       "      <td>0.759863</td>\n",
       "      <td>1.116141</td>\n",
       "      <td>0.0</td>\n",
       "      <td>0.0</td>\n",
       "      <td>0.000000</td>\n",
       "      <td>0.000000</td>\n",
       "      <td>2.000000</td>\n",
       "      <td>4.000000</td>\n",
       "      <td>20.0</td>\n",
       "    </tr>\n",
       "  </tbody>\n",
       "</table>\n",
       "</div>"
      ],
      "text/plain": [
       "                                         count         mean           std  \\\n",
       "SeriousDlqin2yrs                      145563.0     0.067538      0.250952   \n",
       "RevolvingUtilizationOfUnsecuredLines  145563.0     5.941378    250.510835   \n",
       "age                                   145563.0    52.110701     14.567652   \n",
       "NumberOfTime30-59DaysPastDueNotWorse  145563.0     0.389185      3.756944   \n",
       "DebtRatio                             145563.0   334.548251   1947.228209   \n",
       "MonthlyIncome                         145563.0  6675.098269  13074.358896   \n",
       "NumberOfOpenCreditLinesAndLoans       145563.0     8.553788      5.141132   \n",
       "NumberOfTimes90DaysLate               145563.0     0.231309      3.728803   \n",
       "NumberRealEstateLoansOrLines          145563.0     1.033346      1.133115   \n",
       "NumberOfTime60-89DaysPastDueNotWorse  145563.0     0.205622      3.712455   \n",
       "NumberOfDependents                    145563.0     0.759863      1.116141   \n",
       "\n",
       "                                      min    1%          10%          50%  \\\n",
       "SeriousDlqin2yrs                      0.0   0.0     0.000000     0.000000   \n",
       "RevolvingUtilizationOfUnsecuredLines  0.0   0.0     0.003455     0.158817   \n",
       "age                                   0.0  24.0    33.000000    52.000000   \n",
       "NumberOfTime30-59DaysPastDueNotWorse  0.0   0.0     0.000000     0.000000   \n",
       "DebtRatio                             0.0   0.0     0.034398     0.359090   \n",
       "MonthlyIncome                         0.0   0.0  2300.000000  6400.000000   \n",
       "NumberOfOpenCreditLinesAndLoans       0.0   0.0     3.000000     8.000000   \n",
       "NumberOfTimes90DaysLate               0.0   0.0     0.000000     0.000000   \n",
       "NumberRealEstateLoansOrLines          0.0   0.0     0.000000     1.000000   \n",
       "NumberOfTime60-89DaysPastDueNotWorse  0.0   0.0     0.000000     0.000000   \n",
       "NumberOfDependents                    0.0   0.0     0.000000     0.000000   \n",
       "\n",
       "                                               90%           99%        max  \n",
       "SeriousDlqin2yrs                          0.000000      1.000000        1.0  \n",
       "RevolvingUtilizationOfUnsecuredLines      0.976557      1.093822    50708.0  \n",
       "age                                      72.000000     86.000000      107.0  \n",
       "NumberOfTime30-59DaysPastDueNotWorse      1.000000      4.000000       98.0  \n",
       "DebtRatio                              1150.000000   4934.380000   329664.0  \n",
       "MonthlyIncome                         10833.000000  23334.380000  3008750.0  \n",
       "NumberOfOpenCreditLinesAndLoans          15.000000     25.000000       58.0  \n",
       "NumberOfTimes90DaysLate                   0.000000      3.000000       98.0  \n",
       "NumberRealEstateLoansOrLines              2.000000      5.000000       54.0  \n",
       "NumberOfTime60-89DaysPastDueNotWorse      0.000000      2.000000       98.0  \n",
       "NumberOfDependents                        2.000000      4.000000       20.0  "
      ]
     },
     "execution_count": 11,
     "metadata": {},
     "output_type": "execute_result"
    }
   ],
   "source": [
    "# 描述性统计\n",
    "train.describe([0.01, 0.1, 0.5, 0.9, 0.99]).T"
   ]
  },
  {
   "cell_type": "markdown",
   "metadata": {},
   "source": [
    "箱线图"
   ]
  },
  {
   "cell_type": "code",
   "execution_count": 12,
   "metadata": {},
   "outputs": [],
   "source": [
    "# x1=df['可用额度比值']\n",
    "# x2=df['负债率']\n",
    "# x3=df['年龄']\n",
    "# x4=df['逾期30-59天笔数']\n",
    "# x5=df['逾期60-89天笔数']\n",
    "# x6=df['逾期90天笔数']\n",
    "# x7=df['信贷数量']\n",
    "# x8=df['固定资产贷款量']\n",
    "\n",
    "# fig=plt.figure(figsize=(20,15))\n",
    "# ax1=fig.add_subplot(221)\n",
    "# ax2=fig.add_subplot(222)\n",
    "# ax3=fig.add_subplot(223)\n",
    "# ax4=fig.add_subplot(224)\n",
    "\n",
    "# ax1.boxplot([x1,x2])\n",
    "# ax1.set_xticklabels([\"可用额度比值\",\"负债率\"], fontsize=20)\n",
    "\n",
    "# ax2.boxplot(x3)\n",
    "# ax2.set_xticklabels(\"年龄\", fontsize=20)\n",
    "\n",
    "# ax3.boxplot([x4,x5,x6])\n",
    "# ax3.set_xticklabels([\"逾期30-59天笔数\",\"逾期60-89天笔数\",\"逾期90天笔数\"], fontsize=20)\n",
    "\n",
    "# ax4.boxplot([x7,x8])\n",
    "# ax4.set_xticklabels([\"信贷数量\",\"固定资产贷款量\"], fontsize=20)"
   ]
  },
  {
   "cell_type": "code",
   "execution_count": 13,
   "metadata": {},
   "outputs": [
    {
     "data": {
      "text/html": [
       "<div>\n",
       "<style scoped>\n",
       "    .dataframe tbody tr th:only-of-type {\n",
       "        vertical-align: middle;\n",
       "    }\n",
       "\n",
       "    .dataframe tbody tr th {\n",
       "        vertical-align: top;\n",
       "    }\n",
       "\n",
       "    .dataframe thead th {\n",
       "        text-align: right;\n",
       "    }\n",
       "</style>\n",
       "<table border=\"1\" class=\"dataframe\">\n",
       "  <thead>\n",
       "    <tr style=\"text-align: right;\">\n",
       "      <th></th>\n",
       "      <th>SeriousDlqin2yrs</th>\n",
       "      <th>RevolvingUtilizationOfUnsecuredLines</th>\n",
       "      <th>age</th>\n",
       "      <th>NumberOfTime30-59DaysPastDueNotWorse</th>\n",
       "      <th>DebtRatio</th>\n",
       "      <th>MonthlyIncome</th>\n",
       "      <th>NumberOfOpenCreditLinesAndLoans</th>\n",
       "      <th>NumberOfTimes90DaysLate</th>\n",
       "      <th>NumberRealEstateLoansOrLines</th>\n",
       "      <th>NumberOfTime60-89DaysPastDueNotWorse</th>\n",
       "      <th>NumberOfDependents</th>\n",
       "    </tr>\n",
       "  </thead>\n",
       "  <tbody>\n",
       "    <tr>\n",
       "      <th>65553</th>\n",
       "      <td>0</td>\n",
       "      <td>1.0</td>\n",
       "      <td>0</td>\n",
       "      <td>1</td>\n",
       "      <td>0.436927</td>\n",
       "      <td>6000.0</td>\n",
       "      <td>6</td>\n",
       "      <td>0</td>\n",
       "      <td>2</td>\n",
       "      <td>0</td>\n",
       "      <td>2.0</td>\n",
       "    </tr>\n",
       "  </tbody>\n",
       "</table>\n",
       "</div>"
      ],
      "text/plain": [
       "       SeriousDlqin2yrs  RevolvingUtilizationOfUnsecuredLines  age  \\\n",
       "65553                 0                                   1.0    0   \n",
       "\n",
       "       NumberOfTime30-59DaysPastDueNotWorse  DebtRatio  MonthlyIncome  \\\n",
       "65553                                     1   0.436927         6000.0   \n",
       "\n",
       "       NumberOfOpenCreditLinesAndLoans  NumberOfTimes90DaysLate  \\\n",
       "65553                                6                        0   \n",
       "\n",
       "       NumberRealEstateLoansOrLines  NumberOfTime60-89DaysPastDueNotWorse  \\\n",
       "65553                             2                                     0   \n",
       "\n",
       "       NumberOfDependents  \n",
       "65553                 2.0  "
      ]
     },
     "execution_count": 13,
     "metadata": {},
     "output_type": "execute_result"
    }
   ],
   "source": [
    "train[train['age'] < 18]"
   ]
  },
  {
   "cell_type": "code",
   "execution_count": 14,
   "metadata": {},
   "outputs": [],
   "source": [
    "train = train[train['age'] != 0]"
   ]
  },
  {
   "cell_type": "code",
   "execution_count": 15,
   "metadata": {},
   "outputs": [
    {
     "name": "stdout",
     "output_type": "stream",
     "text": [
      "(208, 11)\n",
      "(208, 11)\n",
      "(208, 11)\n"
     ]
    }
   ],
   "source": [
    "# 本赛题定义逾期90天以上就算作坏客户，所以先查看一下这三个逾期指标超过90天的数据\n",
    "print(train[train['NumberOfTime30-59DaysPastDueNotWorse'] > 90].shape)\n",
    "print(train[train['NumberOfTime60-89DaysPastDueNotWorse'] > 90].shape)\n",
    "print(train[train['NumberOfTimes90DaysLate'] > 90].shape)"
   ]
  },
  {
   "cell_type": "code",
   "execution_count": 16,
   "metadata": {},
   "outputs": [
    {
     "data": {
      "text/plain": [
       "(208, 11)"
      ]
     },
     "execution_count": 16,
     "metadata": {},
     "output_type": "execute_result"
    }
   ],
   "source": [
    "train[(train['NumberOfTime30-59DaysPastDueNotWorse'] > 90) & \n",
    "   (train['NumberOfTime60-89DaysPastDueNotWorse'] > 90) & \n",
    "   (train['NumberOfTimes90DaysLate'] > 90)].shape"
   ]
  },
  {
   "cell_type": "code",
   "execution_count": 17,
   "metadata": {},
   "outputs": [
    {
     "data": {
      "text/plain": [
       "0    135648\n",
       "1      9706\n",
       "Name: SeriousDlqin2yrs, dtype: int64"
      ]
     },
     "execution_count": 17,
     "metadata": {},
     "output_type": "execute_result"
    }
   ],
   "source": [
    "# 删除异常数据\n",
    "train = train[train.loc[:,'NumberOfTime30-59DaysPastDueNotWorse'] < 90]\n",
    "train['SeriousDlqin2yrs'].value_counts()"
   ]
  },
  {
   "cell_type": "markdown",
   "metadata": {},
   "source": [
    "分箱"
   ]
  },
  {
   "cell_type": "code",
   "execution_count": 18,
   "metadata": {},
   "outputs": [],
   "source": [
    "# def auto_bins(df,y,x,p=0.01,max_bin=20,plot=True):\n",
    "#     \"\"\"\n",
    "#     参数\n",
    "#     df:传入需要进行分箱的数据集\n",
    "#     y:标签名\n",
    "#     x:进行分箱的特征名\n",
    "#     p:叶子包含观测数的最小占比(0<p<0.5)，默认为0.01\n",
    "#     max_bin:最大箱子数(大于2)，默认为20\n",
    "#     plot:是否画WOE图\n",
    "#     \"\"\"\n",
    "#     from sklearn.tree import DecisionTreeClassifier\n",
    "#     from sklearn.model_selection import GridSearchCV\n",
    "#     import numpy as np\n",
    "#     import pandas as pd\n",
    "    \n",
    "#     # 指明X和Y变量数据,排除NA值\n",
    "#     X = np.array(df[x][df[x].notna()]).reshape(-1,1)\n",
    "#     Y = df[y][df[x].notna()]\n",
    "   \n",
    "#     # 调参,得到最合适的叶节点观测占比\n",
    "#     gini_impure = np.linspace(0,0.001,50)\n",
    "#     param_grid = {\"min_impurity_decrease\":gini_impure}\n",
    "#     Es = GridSearchCV(DecisionTreeClassifier(),param_grid,cv=5,iid=False)\n",
    "#     Es.fit(X,Y)\n",
    "    \n",
    "#     # 使用最优参数构建树模型\n",
    "#     ES = DecisionTreeClassifier(min_impurity_decrease = Es.best_params_[\"min_impurity_decrease\"],\n",
    "#                                 max_leaf_nodes = max_bin,\n",
    "#                                 min_samples_leaf = p)    \n",
    "#     ES.fit(X,Y)\n",
    "    \n",
    "#     # 输出树结构\n",
    "#     TS = tree_structure(ES,x)\n",
    "    \n",
    "#     # 抽取测试节点的阈值\n",
    "#     TH = ES.tree_.threshold[ES.tree_.children_left != ES.tree_.children_right]\n",
    "#     # 计算最优分割点\n",
    "#     CP = np.append(TH,np.array([X.max(),X.min()]))\n",
    "#     CP.sort()\n",
    "    \n",
    "#     # 使用自定义分箱函数\n",
    "#     smbin_cust = smbin_cu(df,y,x,cutpoints = CP,plot = plot)    \n",
    "    \n",
    "#     out_a = pd.Series({\"Tree_structure\":TS})\n",
    "    \n",
    "#     out = smbin_cust.append(out_a)\n",
    "\n",
    "#     return(out)"
   ]
  },
  {
   "cell_type": "code",
   "execution_count": 19,
   "metadata": {},
   "outputs": [],
   "source": [
    "# # 可用额度比值\n",
    "# cut1 = auto_bins(data, '好坏客户', '可用额度比值')"
   ]
  },
  {
   "cell_type": "code",
   "execution_count": 20,
   "metadata": {},
   "outputs": [],
   "source": [
    "from sklearn.model_selection import train_test_split\n",
    "X_train = train.drop(columns = ['SeriousDlqin2yrs'])\n",
    "Y_train = train['SeriousDlqin2yrs']\n",
    "x_train, x_test, y_train, y_test = train_test_split(X_train, Y_train, test_size=0.2, random_state=0)"
   ]
  },
  {
   "cell_type": "code",
   "execution_count": 21,
   "metadata": {},
   "outputs": [
    {
     "data": {
      "text/plain": [
       "XGBClassifier(base_score=0.5, booster='gbtree', colsample_bylevel=1,\n",
       "              colsample_bytree=1, gamma=0, learning_rate=0.1, max_delta_step=0,\n",
       "              max_depth=3, min_child_weight=1, missing=None, n_estimators=100,\n",
       "              n_jobs=1, nthread=None, objective='binary:logistic',\n",
       "              random_state=0, reg_alpha=0, reg_lambda=1, scale_pos_weight=1,\n",
       "              seed=None, silent=True, subsample=1)"
      ]
     },
     "execution_count": 21,
     "metadata": {},
     "output_type": "execute_result"
    }
   ],
   "source": [
    "from sklearn.metrics import accuracy_score\n",
    "from sklearn.metrics import confusion_matrix\n",
    "from xgboost import XGBClassifier\n",
    "# model = XGBClassifier(tree_method = 'gpu_exact')\n",
    "model = XGBClassifier()\n",
    "model.fit(x_train, y_train)"
   ]
  },
  {
   "cell_type": "code",
   "execution_count": 22,
   "metadata": {},
   "outputs": [
    {
     "name": "stdout",
     "output_type": "stream",
     "text": [
      "The Accuracy score is :  93.76625342267843 %\n",
      "[[134545   1103]\n",
      " [  7958   1748]]\n"
     ]
    }
   ],
   "source": [
    "Y_pred = model.predict(X_train)\n",
    "print(\"The accuracy score is : \", accuracy_score(Y_train, Y_pred)*100, \"%\")\n",
    "print(confusion_matrix(Y_train, Y_pred))"
   ]
  },
  {
   "cell_type": "code",
   "execution_count": 23,
   "metadata": {},
   "outputs": [],
   "source": [
    "# from sklearn.linear_model import LogisticRegression\n",
    "# logreg = LogisticRegression()\n",
    "# logreg.fit(X_train, y_train)"
   ]
  },
  {
   "cell_type": "code",
   "execution_count": 24,
   "metadata": {},
   "outputs": [
    {
     "data": {
      "image/png": "[encoded data removed]",
      "text/plain": [
       "<Figure size 432x288 with 1 Axes>"
      ]
     },
     "metadata": {
      "needs_background": "light"
     },
     "output_type": "display_data"
    },
    {
     "data": {
      "text/plain": [
       "0.5809725159964194"
      ]
     },
     "execution_count": 24,
     "metadata": {},
     "output_type": "execute_result"
    }
   ],
   "source": [
    "# Plot the ROC-AUC curve\n",
    "from sklearn.metrics import roc_auc_score\n",
    "from sklearn.metrics import roc_curve\n",
    "import matplotlib.pyplot as plt\n",
    "logit_roc_auc = roc_auc_score(y_test, model.predict(x_test))\n",
    "fpr, tpr, thresholds = roc_curve(y_test, model.predict_proba(x_test)[:, 1])\n",
    "plt.figure()\n",
    "plt.plot(fpr, tpr, label='Logistic Regression (area = %0.3f)' % logit_roc_auc)\n",
    "plt.plot([0, 1], [0, 1],'r--')\n",
    "plt.xlim([0.0, 1.0])\n",
    "plt.ylim([0.0, 1.05])\n",
    "plt.xlabel('False Positive Rate')\n",
    "plt.ylabel('True Positive Rate')\n",
    "plt.title('Receiver operating characteristic')\n",
    "plt.legend(loc=\"lower right\")\n",
    "plt.savefig('Log_ROC')\n",
    "plt.show()\n",
    "roc_auc_score(y_test, model.predict(x_test))"
   ]
  },
  {
   "cell_type": "code",
   "execution_count": 25,
   "metadata": {},
   "outputs": [],
   "source": [
    "# from sklearn.model_selection import KFold, cross_val_score\n",
    "# kf = KFold(n_splits=5, random_state=None) \n",
    "# for train_index, test_index in kf.split(X):\n",
    "#     X_train, X_test = X.iloc[train_index], X.iloc[test_index] \n",
    "#     y_train, y_test = y.iloc[train_index], y.iloc[test_index]\n",
    "# print(np.mean(cross_val_score(model, X, y.values.ravel(), cv=10))*100)"
   ]
  },
  {
   "cell_type": "code",
   "execution_count": 26,
   "metadata": {},
   "outputs": [
    {
     "data": {
      "text/html": [
       "<div>\n",
       "<style scoped>\n",
       "    .dataframe tbody tr th:only-of-type {\n",
       "        vertical-align: middle;\n",
       "    }\n",
       "\n",
       "    .dataframe tbody tr th {\n",
       "        vertical-align: top;\n",
       "    }\n",
       "\n",
       "    .dataframe thead th {\n",
       "        text-align: right;\n",
       "    }\n",
       "</style>\n",
       "<table border=\"1\" class=\"dataframe\">\n",
       "  <thead>\n",
       "    <tr style=\"text-align: right;\">\n",
       "      <th></th>\n",
       "      <th>Unnamed: 0</th>\n",
       "      <th>SeriousDlqin2yrs</th>\n",
       "      <th>RevolvingUtilizationOfUnsecuredLines</th>\n",
       "      <th>age</th>\n",
       "      <th>NumberOfTime30-59DaysPastDueNotWorse</th>\n",
       "      <th>DebtRatio</th>\n",
       "      <th>MonthlyIncome</th>\n",
       "      <th>NumberOfOpenCreditLinesAndLoans</th>\n",
       "      <th>NumberOfTimes90DaysLate</th>\n",
       "      <th>NumberRealEstateLoansOrLines</th>\n",
       "      <th>NumberOfTime60-89DaysPastDueNotWorse</th>\n",
       "      <th>NumberOfDependents</th>\n",
       "    </tr>\n",
       "  </thead>\n",
       "  <tbody>\n",
       "    <tr>\n",
       "      <th>0</th>\n",
       "      <td>1</td>\n",
       "      <td>NaN</td>\n",
       "      <td>0.885519</td>\n",
       "      <td>43</td>\n",
       "      <td>0</td>\n",
       "      <td>0.177513</td>\n",
       "      <td>5700.0</td>\n",
       "      <td>4</td>\n",
       "      <td>0</td>\n",
       "      <td>0</td>\n",
       "      <td>0</td>\n",
       "      <td>0.0</td>\n",
       "    </tr>\n",
       "    <tr>\n",
       "      <th>1</th>\n",
       "      <td>2</td>\n",
       "      <td>NaN</td>\n",
       "      <td>0.463295</td>\n",
       "      <td>57</td>\n",
       "      <td>0</td>\n",
       "      <td>0.527237</td>\n",
       "      <td>9141.0</td>\n",
       "      <td>15</td>\n",
       "      <td>0</td>\n",
       "      <td>4</td>\n",
       "      <td>0</td>\n",
       "      <td>2.0</td>\n",
       "    </tr>\n",
       "    <tr>\n",
       "      <th>2</th>\n",
       "      <td>3</td>\n",
       "      <td>NaN</td>\n",
       "      <td>0.043275</td>\n",
       "      <td>59</td>\n",
       "      <td>0</td>\n",
       "      <td>0.687648</td>\n",
       "      <td>5083.0</td>\n",
       "      <td>12</td>\n",
       "      <td>0</td>\n",
       "      <td>1</td>\n",
       "      <td>0</td>\n",
       "      <td>2.0</td>\n",
       "    </tr>\n",
       "    <tr>\n",
       "      <th>3</th>\n",
       "      <td>4</td>\n",
       "      <td>NaN</td>\n",
       "      <td>0.280308</td>\n",
       "      <td>38</td>\n",
       "      <td>1</td>\n",
       "      <td>0.925961</td>\n",
       "      <td>3200.0</td>\n",
       "      <td>7</td>\n",
       "      <td>0</td>\n",
       "      <td>2</td>\n",
       "      <td>0</td>\n",
       "      <td>0.0</td>\n",
       "    </tr>\n",
       "    <tr>\n",
       "      <th>4</th>\n",
       "      <td>5</td>\n",
       "      <td>NaN</td>\n",
       "      <td>1.000000</td>\n",
       "      <td>27</td>\n",
       "      <td>0</td>\n",
       "      <td>0.019917</td>\n",
       "      <td>3865.0</td>\n",
       "      <td>4</td>\n",
       "      <td>0</td>\n",
       "      <td>0</td>\n",
       "      <td>0</td>\n",
       "      <td>1.0</td>\n",
       "    </tr>\n",
       "  </tbody>\n",
       "</table>\n",
       "</div>"
      ],
      "text/plain": [
       "   Unnamed: 0  SeriousDlqin2yrs  RevolvingUtilizationOfUnsecuredLines  age  \\\n",
       "0           1               NaN                              0.885519   43   \n",
       "1           2               NaN                              0.463295   57   \n",
       "2           3               NaN                              0.043275   59   \n",
       "3           4               NaN                              0.280308   38   \n",
       "4           5               NaN                              1.000000   27   \n",
       "\n",
       "   NumberOfTime30-59DaysPastDueNotWorse  DebtRatio  MonthlyIncome  \\\n",
       "0                                     0   0.177513         5700.0   \n",
       "1                                     0   0.527237         9141.0   \n",
       "2                                     0   0.687648         5083.0   \n",
       "3                                     1   0.925961         3200.0   \n",
       "4                                     0   0.019917         3865.0   \n",
       "\n",
       "   NumberOfOpenCreditLinesAndLoans  NumberOfTimes90DaysLate  \\\n",
       "0                                4                        0   \n",
       "1                               15                        0   \n",
       "2                               12                        0   \n",
       "3                                7                        0   \n",
       "4                                4                        0   \n",
       "\n",
       "   NumberRealEstateLoansOrLines  NumberOfTime60-89DaysPastDueNotWorse  \\\n",
       "0                             0                                     0   \n",
       "1                             4                                     0   \n",
       "2                             1                                     0   \n",
       "3                             2                                     0   \n",
       "4                             0                                     0   \n",
       "\n",
       "   NumberOfDependents  \n",
       "0                 0.0  \n",
       "1                 2.0  \n",
       "2                 2.0  \n",
       "3                 0.0  \n",
       "4                 1.0  "
      ]
     },
     "execution_count": 26,
     "metadata": {},
     "output_type": "execute_result"
    }
   ],
   "source": [
    "test = pd.read_csv('../data/cs-test.csv')\n",
    "test.head()"
   ]
  },
  {
   "cell_type": "code",
   "execution_count": 27,
   "metadata": {},
   "outputs": [
    {
     "name": "stdout",
     "output_type": "stream",
     "text": [
      "Unnamed: 0                              0.000000\n",
      "SeriousDlqin2yrs                        1.000000\n",
      "RevolvingUtilizationOfUnsecuredLines    0.000000\n",
      "age                                     0.000000\n",
      "NumberOfTime30-59DaysPastDueNotWorse    0.000000\n",
      "DebtRatio                               0.000000\n",
      "MonthlyIncome                           0.198053\n",
      "NumberOfOpenCreditLinesAndLoans         0.000000\n",
      "NumberOfTimes90DaysLate                 0.000000\n",
      "NumberRealEstateLoansOrLines            0.000000\n",
      "NumberOfTime60-89DaysPastDueNotWorse    0.000000\n",
      "NumberOfDependents                      0.025871\n",
      "dtype: float64\n"
     ]
    }
   ],
   "source": [
    "print(test.isnull().mean())"
   ]
  },
  {
   "cell_type": "code",
   "execution_count": 28,
   "metadata": {},
   "outputs": [],
   "source": [
    "test['MonthlyIncome'].fillna(test['MonthlyIncome'].mean(), inplace=True)"
   ]
  },
  {
   "cell_type": "code",
   "execution_count": 29,
   "metadata": {},
   "outputs": [],
   "source": [
    "x_test = test.drop(columns = ['Unnamed: 0', 'SeriousDlqin2yrs'])"
   ]
  },
  {
   "cell_type": "code",
   "execution_count": 30,
   "metadata": {},
   "outputs": [
    {
     "name": "stdout",
     "output_type": "stream",
     "text": [
      "(101503, 2)\n"
     ]
    },
    {
     "data": {
      "text/html": [
       "<div>\n",
       "<style scoped>\n",
       "    .dataframe tbody tr th:only-of-type {\n",
       "        vertical-align: middle;\n",
       "    }\n",
       "\n",
       "    .dataframe tbody tr th {\n",
       "        vertical-align: top;\n",
       "    }\n",
       "\n",
       "    .dataframe thead th {\n",
       "        text-align: right;\n",
       "    }\n",
       "</style>\n",
       "<table border=\"1\" class=\"dataframe\">\n",
       "  <thead>\n",
       "    <tr style=\"text-align: right;\">\n",
       "      <th></th>\n",
       "      <th>Id</th>\n",
       "      <th>Probability</th>\n",
       "    </tr>\n",
       "  </thead>\n",
       "  <tbody>\n",
       "    <tr>\n",
       "      <th>0</th>\n",
       "      <td>1</td>\n",
       "      <td>0.080037</td>\n",
       "    </tr>\n",
       "    <tr>\n",
       "      <th>1</th>\n",
       "      <td>2</td>\n",
       "      <td>0.050100</td>\n",
       "    </tr>\n",
       "    <tr>\n",
       "      <th>2</th>\n",
       "      <td>3</td>\n",
       "      <td>0.014760</td>\n",
       "    </tr>\n",
       "    <tr>\n",
       "      <th>3</th>\n",
       "      <td>4</td>\n",
       "      <td>0.074742</td>\n",
       "    </tr>\n",
       "    <tr>\n",
       "      <th>4</th>\n",
       "      <td>5</td>\n",
       "      <td>0.101496</td>\n",
       "    </tr>\n",
       "  </tbody>\n",
       "</table>\n",
       "</div>"
      ],
      "text/plain": [
       "   Id  Probability\n",
       "0   1     0.080037\n",
       "1   2     0.050100\n",
       "2   3     0.014760\n",
       "3   4     0.074742\n",
       "4   5     0.101496"
      ]
     },
     "execution_count": 30,
     "metadata": {},
     "output_type": "execute_result"
    }
   ],
   "source": [
    "preds = model.predict_proba(x_test)\n",
    "submission = pd.DataFrame({'Id': test['Unnamed: 0'], 'Probability': preds[:, 1]})\n",
    "submission.to_csv('submission.csv', index = None, header=True)\n",
    "print(submission.shape)\n",
    "submission.head()"
   ]
  },
  {
   "cell_type": "code",
   "execution_count": 31,
   "metadata": {},
   "outputs": [],
   "source": [
    "train.to_csv('analyze.csv', index = None)"
   ]
  },
  {
   "cell_type": "code",
   "execution_count": null,
   "metadata": {},
   "outputs": [],
   "source": []
  }
 ],
 "metadata": {
  "kernelspec": {
   "display_name": "Python 3",
   "language": "python",
   "name": "python3"
  },
  "language_info": {
   "codemirror_mode": {
    "name": "ipython",
    "version": 3
   },
   "file_extension": ".py",
   "mimetype": "text/x-python",
   "name": "python",
   "nbconvert_exporter": "python",
   "pygments_lexer": "ipython3",
   "version": "3.6.9"
  }
 },
 "nbformat": 4,
 "nbformat_minor": 2
}
