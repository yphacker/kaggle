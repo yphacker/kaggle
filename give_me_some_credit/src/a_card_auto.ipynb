{
 "cells": [
  {
   "cell_type": "markdown",
   "metadata": {},
   "source": [
    "woe"
   ]
  },
  {
   "cell_type": "markdown",
   "metadata": {},
   "source": [
    "分箱\n",
    "https://www.jianshu.com/p/159f381c661d"
   ]
  },
  {
   "cell_type": "code",
   "execution_count": 5,
   "metadata": {},
   "outputs": [],
   "source": [
    "import numpy as np\n",
    "import pandas as pd\n",
    "import matplotlib.pyplot as plt\n",
    "from scipy import stats"
   ]
  },
  {
   "cell_type": "code",
   "execution_count": 11,
   "metadata": {},
   "outputs": [],
   "source": [
    "# 定义自动分箱函数\n",
    "def mono_bin(Y, X, n = 20):\n",
    "    r = 0\n",
    "    good=Y.sum()\n",
    "    bad=Y.count()-good\n",
    "    while np.abs(r) < 1:\n",
    "        d1 = pd.DataFrame({\"X\": X, \"Y\": Y, \"Bucket\": pd.qcut(X, n)})\n",
    "        d2 = d1.groupby('Bucket', as_index = True)\n",
    "        r, p = stats.spearmanr(d2.mean().X, d2.mean().Y)\n",
    "        n = n - 1\n",
    "    d3 = pd.DataFrame(d2.X.min(), columns = ['min'])\n",
    "    d3['min']=d2.min().X\n",
    "    d3['max'] = d2.max().X\n",
    "    d3['sum'] = d2.sum().Y\n",
    "    d3['total'] = d2.count().Y\n",
    "    d3['rate'] = d2.mean().Y\n",
    "    d3['woe']=np.log((d3['rate']/(1-d3['rate']))/(good/bad))\n",
    "    d4 = d3.sort_values(by = 'min')\n",
    "    print(\"=\" * 60)\n",
    "#     print(d4)\n",
    "    return d4"
   ]
  },
  {
   "cell_type": "code",
   "execution_count": 16,
   "metadata": {},
   "outputs": [],
   "source": [
    "# df = pd.read_csv('analyze.csv')\n",
    "# df.drop_duplicates(inplace=True)    # 去重\n",
    "# x = df.drop(columns = ['SeriousDlqin2yrs'])\n",
    "# y = df['SeriousDlqin2yrs']"
   ]
  },
  {
   "cell_type": "code",
   "execution_count": 17,
   "metadata": {},
   "outputs": [],
   "source": [
    "# mono_bin(y, df['RevolvingUtilizationOfUnsecuredLines'])\n",
    "# mono_bin(y, df['age'])\n",
    "# mono_bin(y, df['DebtRatio'])\n",
    "# mono_bin(y, df['MonthlyIncome'])"
   ]
  },
  {
   "cell_type": "code",
   "execution_count": null,
   "metadata": {},
   "outputs": [],
   "source": [
    "# # 连续变量离散化\n",
    "# cutx3 = [ninf, 0, 1, 3, 5, pinf]\n",
    "# cutx6 = [ninf, 1, 2, 3, 5, pinf]\n",
    "# cutx7 = [ninf, 0, 1, 3, 5, pinf]\n",
    "# cutx8 = [ninf, 0,1,2, 3, pinf]\n",
    "# cutx9 = [ninf, 0, 1, 3, pinf]\n",
    "# cutx10 = [ninf, 0, 1, 2, 3, 5, pinf]"
   ]
  },
  {
   "cell_type": "markdown",
   "metadata": {},
   "source": [
    "iv值\n",
    "< 0.02: unpredictive\n",
    "0.02 to 0.1: weak\n",
    "0.1 to 0.3: medium\n",
    "0.3 to 0.5: strong\n",
    "> 0.5: suspicious"
   ]
  },
  {
   "cell_type": "code",
   "execution_count": null,
   "metadata": {},
   "outputs": [],
   "source": [
    "# 定义自动分箱函数\n",
    "def mono_bin(Y, X, n = 20):\n",
    "    r = 0\n",
    "    good=Y.sum()\n",
    "    bad=Y.count()-good\n",
    "    while np.abs(r) < 1:\n",
    "        d1 = pd.DataFrame({\"X\": X, \"Y\": Y, \"Bucket\": pd.qcut(X, n)})\n",
    "        d2 = d1.groupby('Bucket', as_index = True)\n",
    "        r, p = stats.spearmanr(d2.mean().X, d2.mean().Y)\n",
    "        n = n - 1\n",
    "    d3 = pd.DataFrame(d2.X.min(), columns = ['min'])\n",
    "    d3['min']=d2.min().X\n",
    "    d3['max'] = d2.max().X\n",
    "    d3['sum'] = d2.sum().Y\n",
    "    d3['total'] = d2.count().Y\n",
    "    d3['rate'] = d2.mean().Y\n",
    "    d3['woe']=np.log((d3['rate']/(1-d3['rate']))/(good/bad))\n",
    "    d3['goodattribute']=d3['sum']/good\n",
    "    d3['badattribute']=(d3['total']-d3['sum'])/bad\n",
    "    iv=((d3['goodattribute']-d3['badattribute'])*d3['woe']).sum()\n",
    "    d4 = (d3.sort_index(by = 'min')).reset_index(drop=True)\n",
    "    print(\"=\" * 60)\n",
    "    print(d4)\n",
    "    cut=[]\n",
    "    cut.append(float('-inf'))\n",
    "    for i in range(1,n+1):\n",
    "        qua=X.quantile(i/(n+1))\n",
    "        cut.append(round(qua,4))\n",
    "    cut.append(float('inf'))\n",
    "    woe=list(d4['woe'].round(3))\n",
    "    return d4,iv,cut,woe"
   ]
  },
  {
   "cell_type": "code",
   "execution_count": null,
   "metadata": {},
   "outputs": [],
   "source": [
    "ivlist=[ivx1,ivx2,ivx3,ivx4,ivx5,ivx6,ivx7,ivx8,ivx9,ivx10]#各变量IV\n",
    "index=['x1','x2','x3','x4','x5','x6','x7','x8','x9','x10']#x轴的标签\n",
    "fig1 = plt.figure(1)\n",
    "ax1 = fig1.add_subplot(1, 1, 1)\n",
    "x = np.arange(len(index))+1\n",
    "ax1.bar(x, ivlist, width=0.4)#生成柱状图\n",
    "ax1.set_xticks(x)\n",
    "ax1.set_xticklabels(index, rotation=0, fontsize=12)\n",
    "ax1.set_ylabel('IV(Information Value)', fontsize=14)\n",
    "#在柱状图上添加数字标签\n",
    "for a, b in zip(x, ivlist):\n",
    "    plt.text(a, b + 0.01, '%.4f' % b, ha='center', va='bottom', fontsize=10)\n",
    "plt.show()"
   ]
  },
  {
   "cell_type": "code",
   "execution_count": null,
   "metadata": {},
   "outputs": [],
   "source": [
    "#替换成woe函数\n",
    "def replace_woe(series,cut,woe):\n",
    "    list=[]\n",
    "    i=0\n",
    "    while i<len(series):\n",
    "        value=series[i]\n",
    "        j=len(cut)-2\n",
    "        m=len(cut)-2\n",
    "        while j>=0:\n",
    "            if value>=cut[j]:\n",
    "                j=-1\n",
    "            else:\n",
    "                j -=1\n",
    "                m -= 1\n",
    "        list.append(woe[m])\n",
    "        i += 1\n",
    "    return list"
   ]
  },
  {
   "cell_type": "code",
   "execution_count": null,
   "metadata": {},
   "outputs": [],
   "source": [
    "# 替换成woe\n",
    "data['RevolvingUtilizationOfUnsecuredLines'] = Series(replace_woe(data['RevolvingUtilizationOfUnsecuredLines'], cutx1, woex1))\n",
    "data['age'] = Series(replace_woe(data['age'], cutx2, woex2))\n",
    "data['NumberOfTime30-59DaysPastDueNotWorse'] = Series(replace_woe(data['NumberOfTime30-59DaysPastDueNotWorse'], cutx3, woex3))\n",
    "data['DebtRatio'] = Series(replace_woe(data['DebtRatio'], cutx4, woex4))\n",
    "data['MonthlyIncome'] = Series(replace_woe(data['MonthlyIncome'], cutx5, woex5))\n",
    "data['NumberOfOpenCreditLinesAndLoans'] = Series(replace_woe(data['NumberOfOpenCreditLinesAndLoans'], cutx6, woex6))\n",
    "data['NumberOfTimes90DaysLate'] = Series(replace_woe(data['NumberOfTimes90DaysLate'], cutx7, woex7))\n",
    "data['NumberRealEstateLoansOrLines'] = Series(replace_woe(data['NumberRealEstateLoansOrLines'], cutx8, woex8))\n",
    "data['NumberOfTime60-89DaysPastDueNotWorse'] = Series(replace_woe(data['NumberOfTime60-89DaysPastDueNotWorse'], cutx9, woex9))\n",
    "data['NumberOfDependents'] = Series(replace_woe(data['NumberOfDependents'], cutx10, woex10))\n",
    "data.to_csv('WoeData.csv', index=False)"
   ]
  },
  {
   "cell_type": "code",
   "execution_count": null,
   "metadata": {},
   "outputs": [],
   "source": [
    "导入数据\n",
    "    data = pd.read_csv('WoeData.csv')\n",
    "    #应变量\n",
    "    Y=data['SeriousDlqin2yrs']\n",
    "    #自变量，剔除对因变量影响不明显的变量\n",
    "    X=data.drop(['SeriousDlqin2yrs','DebtRatio','MonthlyIncome', 'NumberOfOpenCreditLinesAndLoans','NumberRealEstateLoansOrLines','NumberOfDependents'],axis=1)\n",
    "    X1=sm.add_constant(X)\n",
    "    logit=sm.Logit(Y,X1)\n",
    "    result=logit.fit()\n",
    "    print(result.summary())"
   ]
  },
  {
   "cell_type": "code",
   "execution_count": null,
   "metadata": {},
   "outputs": [],
   "source": [
    "模型检验"
   ]
  },
  {
   "cell_type": "code",
   "execution_count": null,
   "metadata": {},
   "outputs": [],
   "source": [
    "# 我们取600分为基础分值，PDO为20（每高20分好坏比翻一倍），好坏比取20。\n",
    "    p = 20 / math.log(2)\n",
    "    q = 600 - 20 * math.log(20) / math.log(2)\n",
    "    baseScore = round(q + p * coe[0], 0)"
   ]
  },
  {
   "cell_type": "code",
   "execution_count": null,
   "metadata": {},
   "outputs": [],
   "source": [
    "#计算分数函数\n",
    "def get_score(coe,woe,factor):\n",
    "    scores=[]\n",
    "    for w in woe:\n",
    "        score=round(coe*w*factor,0)\n",
    "        scores.append(score)\n",
    "    return scores"
   ]
  },
  {
   "cell_type": "code",
   "execution_count": null,
   "metadata": {},
   "outputs": [],
   "source": [
    " # 各项部分分数\n",
    "    x1 = get_score(coe[1], woex1, p)\n",
    "    x2 = get_score(coe[2], woex2, p)\n",
    "    x3 = get_score(coe[3], woex3, p)\n",
    "    x7 = get_score(coe[4], woex7, p)\n",
    "    x9 = get_score(coe[5], woex9, p)"
   ]
  },
  {
   "cell_type": "code",
   "execution_count": null,
   "metadata": {},
   "outputs": [],
   "source": [
    "#根据变量计算分数\n",
    "def compute_score(series,cut,score):\n",
    "    list = []\n",
    "    i = 0\n",
    "    while i < len(series):\n",
    "        value = series[i]\n",
    "        j = len(cut) - 2\n",
    "        m = len(cut) - 2\n",
    "        while j >= 0:\n",
    "            if value >= cut[j]:\n",
    "                j = -1\n",
    "            else:\n",
    "                j -= 1\n",
    "                m -= 1\n",
    "        list.append(score[m])\n",
    "        i += 1\n",
    "    return list"
   ]
  },
  {
   "cell_type": "code",
   "execution_count": null,
   "metadata": {},
   "outputs": [],
   "source": [
    "test1 = pd.read_csv('TestData.csv')\n",
    "    test1['BaseScore']=Series(np.zeros(len(test1)))+baseScore\n",
    "    test1['x1'] = Series(compute_score(test1['RevolvingUtilizationOfUnsecuredLines'], cutx1, x1))\n",
    "    test1['x2'] = Series(compute_score(test1['age'], cutx2, x2))\n",
    "    test1['x3'] = Series(compute_score(test1['NumberOfTime30-59DaysPastDueNotWorse'], cutx3, x3))\n",
    "    test1['x7'] = Series(compute_score(test1['NumberOfTimes90DaysLate'], cutx7, x7))\n",
    "    test1['x9'] = Series(compute_score(test1['NumberOfTime60-89DaysPastDueNotWorse'], cutx9, x9))\n",
    "    test1['Score'] = test1['x1'] + test1['x2'] + test1['x3'] + test1['x7'] +test1['x9']  + baseScore\n",
    "    test1.to_csv('ScoreData.csv', index=False)"
   ]
  },
  {
   "cell_type": "code",
   "execution_count": null,
   "metadata": {},
   "outputs": [],
   "source": []
  },
  {
   "cell_type": "code",
   "execution_count": null,
   "metadata": {},
   "outputs": [],
   "source": []
  },
  {
   "cell_type": "code",
   "execution_count": null,
   "metadata": {},
   "outputs": [],
   "source": []
  }
 ],
 "metadata": {
  "kernelspec": {
   "display_name": "Python 3",
   "language": "python",
   "name": "python3"
  },
  "language_info": {
   "codemirror_mode": {
    "name": "ipython",
    "version": 3
   },
   "file_extension": ".py",
   "mimetype": "text/x-python",
   "name": "python",
   "nbconvert_exporter": "python",
   "pygments_lexer": "ipython3",
   "version": "3.6.7"
  }
 },
 "nbformat": 4,
 "nbformat_minor": 2
}
