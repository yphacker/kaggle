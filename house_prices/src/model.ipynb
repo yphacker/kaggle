{
 "cells": [
  {
   "cell_type": "code",
   "execution_count": 1,
   "metadata": {},
   "outputs": [],
   "source": [
    "import warnings\n",
    "warnings.filterwarnings('ignore')\n",
    "\n",
    "import numpy as np\n",
    "import pandas as pd\n",
    "\n",
    "# Modelling Algorithms\n",
    "\n",
    "from sklearn.base import BaseEstimator, RegressorMixin, TransformerMixin, clone\n",
    "from sklearn.model_selection import GridSearchCV\n",
    "from sklearn.model_selection import cross_val_score\n",
    "from sklearn.linear_model import LinearRegression, Ridge, Lasso\n",
    "from sklearn.linear_model import LogisticRegression, LogisticRegressionCV\n",
    "from sklearn.linear_model import ElasticNet, SGDRegressor, BayesianRidge\n",
    "from sklearn.ensemble import RandomForestClassifier\n",
    "from sklearn.ensemble import RandomForestRegressor, GradientBoostingRegressor, ExtraTreesRegressor\n",
    "from sklearn.svm import SVR, LinearSVR\n",
    "from sklearn.ensemble.gradient_boosting import GradientBoostingClassifier\n",
    "from sklearn.kernel_ridge import KernelRidge\n",
    "from xgboost import XGBRegressor\n",
    "\n",
    "from sklearn.impute import SimpleImputer as Imputer\n",
    "from sklearn.model_selection import KFold, StratifiedKFold"
   ]
  },
  {
   "cell_type": "code",
   "execution_count": 2,
   "metadata": {},
   "outputs": [],
   "source": [
    "x_train = np.load('../data/x_train.npz')['x_train']\n",
    "y_train = np.load('../data/y_train.npz')['y_train']\n",
    "x_test = np.load('../data/x_test.npz')['x_test']"
   ]
  },
  {
   "cell_type": "markdown",
   "metadata": {},
   "source": [
    "We choose 13 models and use 5-folds cross-calidation to evaluate these models.\n",
    "Models include:\n",
    "\n",
    "+ LinearRegression\n",
    "+ Ridge\n",
    "+ Lasso\n",
    "+ Random Forrest\n",
    "+ Gradient Boosting Tree\n",
    "+ Support Vector Regression\n",
    "+ Linear Support Vector Regression\n",
    "+ ElasticNet\n",
    "+ Stochastic Gradient Descent\n",
    "+ BayesianRidge\n",
    "+ KernelRidge\n",
    "+ ExtraTreesRegressor\n",
    "+ XgBoost"
   ]
  },
  {
   "cell_type": "code",
   "execution_count": 3,
   "metadata": {},
   "outputs": [],
   "source": [
    "# define cross validation strategy\n",
    "def rmse_cv(model, X, y):\n",
    "    rmse = np.sqrt(-cross_val_score(model, X, y, scoring=\"neg_mean_squared_error\", cv=5))\n",
    "    return rmse"
   ]
  },
  {
   "cell_type": "code",
   "execution_count": 4,
   "metadata": {},
   "outputs": [],
   "source": [
    "models = [LinearRegression(), \n",
    "          Ridge(), \n",
    "          Lasso(alpha=0.01, max_iter=10000), \n",
    "          RandomForestRegressor(), \n",
    "          GradientBoostingRegressor(), \n",
    "          SVR(), \n",
    "          LinearSVR(),\n",
    "          ElasticNet(alpha=0.001, max_iter=10000), \n",
    "          SGDRegressor(max_iter=1000, tol=1e-3),\n",
    "          BayesianRidge(), \n",
    "          KernelRidge(alpha=0.6, kernel='polynomial', degree=2, coef0=2.5),\n",
    "          ExtraTreesRegressor(), \n",
    "          XGBRegressor()]"
   ]
  },
  {
   "cell_type": "code",
   "execution_count": 5,
   "metadata": {},
   "outputs": [
    {
     "name": "stdout",
     "output_type": "stream",
     "text": [
      "LR: 337794275.207902, 123884034.9788\n",
      "Ridge: 0.117474, 0.0091\n",
      "Lasso: 0.120971, 0.0061\n",
      "RF: 0.131366, 0.0054\n",
      "GBR: 0.123845, 0.0076\n",
      "SVR: 0.136137, 0.0126\n",
      "LinSVR: 0.121072, 0.0086\n",
      "Ela: 0.110987, 0.0061\n",
      "SGD: 0.149181, 0.0137\n",
      "Bay: 0.110506, 0.0060\n",
      "Ker: 0.109154, 0.0055\n",
      "Extra: 0.128953, 0.0056\n",
      "Xgb: 0.123728, 0.0080\n"
     ]
    }
   ],
   "source": [
    "names = [\"LR\", \"Ridge\", \"Lasso\", \"RF\", \"GBR\", \"SVR\", \"LinSVR\", \"Ela\",\"SGD\",\"Bay\",\"Ker\",\"Extra\",\"Xgb\"]\n",
    "for name, model in zip(names, models):\n",
    "    score = rmse_cv(model, x_train, y_train)\n",
    "    print(\"{}: {:.6f}, {:.4f}\".format(name, score.mean(), score.std()))"
   ]
  },
  {
   "cell_type": "code",
   "execution_count": 6,
   "metadata": {},
   "outputs": [],
   "source": [
    "class grid():\n",
    "    def __init__(self,model):\n",
    "        self.model = model\n",
    "    \n",
    "    def grid_get(self,X,y,param_grid):\n",
    "        grid_search = GridSearchCV(self.model,param_grid,cv=5, scoring=\"neg_mean_squared_error\")\n",
    "        grid_search.fit(X,y)\n",
    "        print(grid_search.best_params_, np.sqrt(-grid_search.best_score_))\n",
    "        grid_search.cv_results_['mean_test_score'] = np.sqrt(-grid_search.cv_results_['mean_test_score'])\n",
    "        print(pd.DataFrame(grid_search.cv_results_)[['params','mean_test_score','std_test_score']])"
   ]
  },
  {
   "cell_type": "code",
   "execution_count": 7,
   "metadata": {},
   "outputs": [
    {
     "name": "stdout",
     "output_type": "stream",
     "text": [
      "{'alpha': 0.0008, 'max_iter': 10000} 0.11110479398191903\n",
      "                                 params  mean_test_score  std_test_score\n",
      "0  {'alpha': 0.0004, 'max_iter': 10000}         0.111468        0.001369\n",
      "1  {'alpha': 0.0005, 'max_iter': 10000}         0.111178        0.001376\n",
      "2  {'alpha': 0.0007, 'max_iter': 10000}         0.111122        0.001386\n",
      "3  {'alpha': 0.0006, 'max_iter': 10000}         0.111146        0.001400\n",
      "4  {'alpha': 0.0009, 'max_iter': 10000}         0.111162        0.001324\n",
      "5  {'alpha': 0.0008, 'max_iter': 10000}         0.111105        0.001354\n"
     ]
    }
   ],
   "source": [
    "grid(Lasso()).grid_get(x_train, y_train, {'alpha': [0.0004,0.0005,0.0007,0.0006,0.0009,0.0008], 'max_iter':[10000]})"
   ]
  },
  {
   "cell_type": "code",
   "execution_count": 8,
   "metadata": {},
   "outputs": [
    {
     "name": "stdout",
     "output_type": "stream",
     "text": [
      "{'alpha': 60} 0.11015360313430884\n",
      "          params  mean_test_score  std_test_score\n",
      "0  {'alpha': 35}         0.110311        0.001276\n",
      "1  {'alpha': 40}         0.110245        0.001257\n",
      "2  {'alpha': 45}         0.110201        0.001242\n",
      "3  {'alpha': 50}         0.110173        0.001230\n",
      "4  {'alpha': 55}         0.110158        0.001220\n",
      "5  {'alpha': 60}         0.110154        0.001212\n",
      "6  {'alpha': 65}         0.110158        0.001205\n",
      "7  {'alpha': 70}         0.110169        0.001200\n",
      "8  {'alpha': 80}         0.110208        0.001191\n",
      "9  {'alpha': 90}         0.110266        0.001185\n"
     ]
    }
   ],
   "source": [
    "grid(Ridge()).grid_get(x_train, y_train, {'alpha':[35,40,45,50,55,60,65,70,80,90]})"
   ]
  },
  {
   "cell_type": "code",
   "execution_count": 9,
   "metadata": {},
   "outputs": [
    {
     "name": "stdout",
     "output_type": "stream",
     "text": [
      "{'C': 12, 'epsilon': 0.009, 'gamma': 0.0004, 'kernel': 'rbf'} 0.10803302837011246\n",
      "                                               params  mean_test_score  \\\n",
      "0   {'C': 11, 'epsilon': 0.008, 'gamma': 0.0003, '...         0.108479   \n",
      "1   {'C': 11, 'epsilon': 0.008, 'gamma': 0.0004, '...         0.108089   \n",
      "2   {'C': 11, 'epsilon': 0.009, 'gamma': 0.0003, '...         0.108450   \n",
      "3   {'C': 11, 'epsilon': 0.009, 'gamma': 0.0004, '...         0.108066   \n",
      "4   {'C': 12, 'epsilon': 0.008, 'gamma': 0.0003, '...         0.108431   \n",
      "5   {'C': 12, 'epsilon': 0.008, 'gamma': 0.0004, '...         0.108082   \n",
      "6   {'C': 12, 'epsilon': 0.009, 'gamma': 0.0003, '...         0.108415   \n",
      "7   {'C': 12, 'epsilon': 0.009, 'gamma': 0.0004, '...         0.108033   \n",
      "8   {'C': 13, 'epsilon': 0.008, 'gamma': 0.0003, '...         0.108409   \n",
      "9   {'C': 13, 'epsilon': 0.008, 'gamma': 0.0004, '...         0.108082   \n",
      "10  {'C': 13, 'epsilon': 0.009, 'gamma': 0.0003, '...         0.108376   \n",
      "11  {'C': 13, 'epsilon': 0.009, 'gamma': 0.0004, '...         0.108037   \n",
      "12  {'C': 14, 'epsilon': 0.008, 'gamma': 0.0003, '...         0.108386   \n",
      "13  {'C': 14, 'epsilon': 0.008, 'gamma': 0.0004, '...         0.108103   \n",
      "14  {'C': 14, 'epsilon': 0.009, 'gamma': 0.0003, '...         0.108370   \n",
      "15  {'C': 14, 'epsilon': 0.009, 'gamma': 0.0004, '...         0.108073   \n",
      "16  {'C': 15, 'epsilon': 0.008, 'gamma': 0.0003, '...         0.108355   \n",
      "17  {'C': 15, 'epsilon': 0.008, 'gamma': 0.0004, '...         0.108113   \n",
      "18  {'C': 15, 'epsilon': 0.009, 'gamma': 0.0003, '...         0.108336   \n",
      "19  {'C': 15, 'epsilon': 0.009, 'gamma': 0.0004, '...         0.108077   \n",
      "\n",
      "    std_test_score  \n",
      "0         0.001585  \n",
      "1         0.001590  \n",
      "2         0.001581  \n",
      "3         0.001592  \n",
      "4         0.001601  \n",
      "5         0.001596  \n",
      "6         0.001596  \n",
      "7         0.001601  \n",
      "8         0.001613  \n",
      "9         0.001601  \n",
      "10        0.001610  \n",
      "11        0.001608  \n",
      "12        0.001628  \n",
      "13        0.001605  \n",
      "14        0.001624  \n",
      "15        0.001616  \n",
      "16        0.001632  \n",
      "17        0.001610  \n",
      "18        0.001634  \n",
      "19        0.001615  \n"
     ]
    }
   ],
   "source": [
    "grid(SVR()).grid_get(x_train, y_train, {'C':[11,12,13,14,15], \n",
    "                                        'kernel':[\"rbf\"], \n",
    "                                        \"gamma\":[0.0003, 0.0004],\n",
    "                                        \"epsilon\":[0.008,0.009]})"
   ]
  },
  {
   "cell_type": "code",
   "execution_count": 10,
   "metadata": {},
   "outputs": [
    {
     "name": "stdout",
     "output_type": "stream",
     "text": [
      "{'alpha': 0.3, 'coef0': 1, 'degree': 3, 'kernel': 'polynomial'} 0.10820434272136836\n",
      "                                               params  mean_test_score  \\\n",
      "0   {'alpha': 0.2, 'coef0': 0.8, 'degree': 3, 'ker...         0.108232   \n",
      "1   {'alpha': 0.2, 'coef0': 1, 'degree': 3, 'kerne...         0.108463   \n",
      "2   {'alpha': 0.2, 'coef0': 1.2, 'degree': 3, 'ker...         0.108896   \n",
      "3   {'alpha': 0.3, 'coef0': 0.8, 'degree': 3, 'ker...         0.108340   \n",
      "4   {'alpha': 0.3, 'coef0': 1, 'degree': 3, 'kerne...         0.108204   \n",
      "5   {'alpha': 0.3, 'coef0': 1.2, 'degree': 3, 'ker...         0.108426   \n",
      "6   {'alpha': 0.4, 'coef0': 0.8, 'degree': 3, 'ker...         0.108695   \n",
      "7   {'alpha': 0.4, 'coef0': 1, 'degree': 3, 'kerne...         0.108213   \n",
      "8   {'alpha': 0.4, 'coef0': 1.2, 'degree': 3, 'ker...         0.108267   \n",
      "9   {'alpha': 0.5, 'coef0': 0.8, 'degree': 3, 'ker...         0.109174   \n",
      "10  {'alpha': 0.5, 'coef0': 1, 'degree': 3, 'kerne...         0.108339   \n",
      "11  {'alpha': 0.5, 'coef0': 1.2, 'degree': 3, 'ker...         0.108241   \n",
      "\n",
      "    std_test_score  \n",
      "0         0.001215  \n",
      "1         0.001254  \n",
      "2         0.001302  \n",
      "3         0.001195  \n",
      "4         0.001219  \n",
      "5         0.001257  \n",
      "6         0.001188  \n",
      "7         0.001200  \n",
      "8         0.001230  \n",
      "9         0.001187  \n",
      "10        0.001188  \n",
      "11        0.001211  \n"
     ]
    }
   ],
   "source": [
    "grid(KernelRidge()).grid_get(x_train, y_train, {'alpha':[0.2,0.3,0.4,0.5], \n",
    "                                                'kernel':[\"polynomial\"], \n",
    "                                                'degree':[3], \n",
    "                                                'coef0':[0.8,1,1.2]})"
   ]
  },
  {
   "cell_type": "code",
   "execution_count": 11,
   "metadata": {},
   "outputs": [
    {
     "name": "stdout",
     "output_type": "stream",
     "text": [
      "{'alpha': 0.005, 'l1_ratio': 0.1, 'max_iter': 10000} 0.11104696892501967\n",
      "                                               params  mean_test_score  \\\n",
      "0   {'alpha': 0.0005, 'l1_ratio': 0.08, 'max_iter'...         0.116630   \n",
      "1   {'alpha': 0.0005, 'l1_ratio': 0.1, 'max_iter':...         0.116082   \n",
      "2   {'alpha': 0.0005, 'l1_ratio': 0.3, 'max_iter':...         0.113106   \n",
      "3   {'alpha': 0.0005, 'l1_ratio': 0.5, 'max_iter':...         0.112053   \n",
      "4   {'alpha': 0.0005, 'l1_ratio': 0.7, 'max_iter':...         0.111674   \n",
      "5   {'alpha': 0.0008, 'l1_ratio': 0.08, 'max_iter'...         0.114770   \n",
      "6   {'alpha': 0.0008, 'l1_ratio': 0.1, 'max_iter':...         0.114250   \n",
      "7   {'alpha': 0.0008, 'l1_ratio': 0.3, 'max_iter':...         0.111991   \n",
      "8   {'alpha': 0.0008, 'l1_ratio': 0.5, 'max_iter':...         0.111415   \n",
      "9   {'alpha': 0.0008, 'l1_ratio': 0.7, 'max_iter':...         0.111160   \n",
      "10  {'alpha': 0.004, 'l1_ratio': 0.08, 'max_iter':...         0.111287   \n",
      "11  {'alpha': 0.004, 'l1_ratio': 0.1, 'max_iter': ...         0.111178   \n",
      "12  {'alpha': 0.004, 'l1_ratio': 0.3, 'max_iter': ...         0.111656   \n",
      "13  {'alpha': 0.004, 'l1_ratio': 0.5, 'max_iter': ...         0.113262   \n",
      "14  {'alpha': 0.004, 'l1_ratio': 0.7, 'max_iter': ...         0.114546   \n",
      "15  {'alpha': 0.005, 'l1_ratio': 0.08, 'max_iter':...         0.111134   \n",
      "16  {'alpha': 0.005, 'l1_ratio': 0.1, 'max_iter': ...         0.111047   \n",
      "17  {'alpha': 0.005, 'l1_ratio': 0.3, 'max_iter': ...         0.112309   \n",
      "18  {'alpha': 0.005, 'l1_ratio': 0.5, 'max_iter': ...         0.114077   \n",
      "19  {'alpha': 0.005, 'l1_ratio': 0.7, 'max_iter': ...         0.115733   \n",
      "\n",
      "    std_test_score  \n",
      "0         0.002031  \n",
      "1         0.001987  \n",
      "2         0.001773  \n",
      "3         0.001535  \n",
      "4         0.001395  \n",
      "5         0.001915  \n",
      "6         0.001885  \n",
      "7         0.001537  \n",
      "8         0.001365  \n",
      "9         0.001399  \n",
      "10        0.001364  \n",
      "11        0.001331  \n",
      "12        0.001244  \n",
      "13        0.001202  \n",
      "14        0.001206  \n",
      "15        0.001321  \n",
      "16        0.001326  \n",
      "17        0.001211  \n",
      "18        0.001209  \n",
      "19        0.001235  \n"
     ]
    }
   ],
   "source": [
    "grid(ElasticNet()).grid_get(x_train, y_train, {'alpha':[0.0005,0.0008,0.004,0.005], \n",
    "                                               'l1_ratio':[0.08,0.1,0.3,0.5,0.7], \n",
    "                                               'max_iter':[10000]})"
   ]
  },
  {
   "cell_type": "markdown",
   "metadata": {},
   "source": [
    "模型融合"
   ]
  },
  {
   "cell_type": "code",
   "execution_count": 12,
   "metadata": {},
   "outputs": [],
   "source": [
    "class AverageWeight(BaseEstimator, RegressorMixin):\n",
    "    def __init__(self,mod,weight):\n",
    "        self.mod = mod\n",
    "        self.weight = weight\n",
    "        \n",
    "    def fit(self,X,y):\n",
    "        self.models_ = [clone(x) for x in self.mod]\n",
    "        for model in self.models_:\n",
    "            model.fit(X,y)\n",
    "        return self\n",
    "    \n",
    "    def predict(self,X):\n",
    "        w = list()\n",
    "        pred = np.array([model.predict(X) for model in self.models_])\n",
    "        # for every data point, single model prediction times weight, then add them together\n",
    "        for data in range(pred.shape[1]):\n",
    "            single = [pred[model,data]*weight for model,weight in zip(range(pred.shape[0]),self.weight)]\n",
    "            w.append(np.sum(single))\n",
    "        return w"
   ]
  },
  {
   "cell_type": "code",
   "execution_count": 13,
   "metadata": {},
   "outputs": [],
   "source": [
    "lasso = Lasso(alpha=0.0005,max_iter=10000)\n",
    "ridge = Ridge(alpha=60)\n",
    "svr = SVR(gamma= 0.0004, kernel='rbf', C=13, epsilon=0.009)\n",
    "ker = KernelRidge(alpha=0.2 ,kernel='polynomial',degree=3 , coef0=0.8)\n",
    "ela = ElasticNet(alpha=0.005,l1_ratio=0.08,max_iter=10000)\n",
    "bay = BayesianRidge()"
   ]
  },
  {
   "cell_type": "code",
   "execution_count": 14,
   "metadata": {},
   "outputs": [],
   "source": [
    "# assign weights based on their gridsearch score\n",
    "w1 = 0.02\n",
    "w2 = 0.2\n",
    "w3 = 0.25\n",
    "w4 = 0.3\n",
    "w5 = 0.03\n",
    "w6 = 0.2"
   ]
  },
  {
   "cell_type": "code",
   "execution_count": 15,
   "metadata": {},
   "outputs": [],
   "source": [
    "weight_avg = AverageWeight(mod=[lasso,ridge,svr,ker,ela,bay],weight=[w1,w2,w3,w4,w5,w6])"
   ]
  },
  {
   "cell_type": "code",
   "execution_count": 16,
   "metadata": {},
   "outputs": [
    {
     "data": {
      "text/plain": [
       "(array([0.10421222, 0.10936372, 0.11835569, 0.1001449 , 0.1058588 ]),\n",
       " 0.1075870668393643)"
      ]
     },
     "execution_count": 16,
     "metadata": {},
     "output_type": "execute_result"
    }
   ],
   "source": [
    "rmse_cv(weight_avg, x_train, y_train), rmse_cv(weight_avg, x_train, y_train).mean()"
   ]
  },
  {
   "cell_type": "code",
   "execution_count": 17,
   "metadata": {},
   "outputs": [],
   "source": [
    "# 只用两个表现最好的模型，效果会更好\n",
    "weight_avg = AverageWeight(mod=[svr, ker], weight=[0.5, 0.5])"
   ]
  },
  {
   "cell_type": "code",
   "execution_count": 18,
   "metadata": {},
   "outputs": [
    {
     "data": {
      "text/plain": [
       "(array([0.10272309, 0.10899485, 0.11761903, 0.09857332, 0.10492267]),\n",
       " 0.1065665894784528)"
      ]
     },
     "execution_count": 18,
     "metadata": {},
     "output_type": "execute_result"
    }
   ],
   "source": [
    "rmse_cv(weight_avg, x_train, y_train),  rmse_cv(weight_avg, x_train, y_train).mean()"
   ]
  },
  {
   "cell_type": "code",
   "execution_count": 19,
   "metadata": {},
   "outputs": [],
   "source": [
    "class stacking(BaseEstimator, RegressorMixin, TransformerMixin):\n",
    "    def __init__(self,mod,meta_model):\n",
    "        self.mod = mod\n",
    "        self.meta_model = meta_model\n",
    "        self.kf = KFold(n_splits=5, random_state=42, shuffle=True)\n",
    "        \n",
    "    def fit(self,X,y):\n",
    "        self.saved_model = [list() for i in self.mod]\n",
    "        oof_train = np.zeros((X.shape[0], len(self.mod)))\n",
    "        \n",
    "        for i,model in enumerate(self.mod):\n",
    "            for train_index, val_index in self.kf.split(X,y):\n",
    "                renew_model = clone(model)\n",
    "                renew_model.fit(X[train_index], y[train_index])\n",
    "                self.saved_model[i].append(renew_model)\n",
    "                oof_train[val_index,i] = renew_model.predict(X[val_index])\n",
    "        \n",
    "        self.meta_model.fit(oof_train,y)\n",
    "        return self\n",
    "    \n",
    "    def predict(self,X):\n",
    "        whole_test = np.column_stack([np.column_stack(model.predict(X) for model in single_model).mean(axis=1) \n",
    "                                      for single_model in self.saved_model]) \n",
    "        return self.meta_model.predict(whole_test)\n",
    "    \n",
    "    def get_oof(self,X,y,test_X):\n",
    "        oof = np.zeros((X.shape[0],len(self.mod)))\n",
    "        test_single = np.zeros((test_X.shape[0],5))\n",
    "        test_mean = np.zeros((test_X.shape[0],len(self.mod)))\n",
    "        for i,model in enumerate(self.mod):\n",
    "            for j, (train_index,val_index) in enumerate(self.kf.split(X,y)):\n",
    "                clone_model = clone(model)\n",
    "                clone_model.fit(X[train_index],y[train_index])\n",
    "                oof[val_index,i] = clone_model.predict(X[val_index])\n",
    "                test_single[:,j] = clone_model.predict(test_X)\n",
    "            test_mean[:,i] = test_single.mean(axis=1)\n",
    "        return oof, test_mean"
   ]
  },
  {
   "cell_type": "code",
   "execution_count": 20,
   "metadata": {},
   "outputs": [],
   "source": [
    "# must do imputer first, otherwise stacking won't work, and i don't know why.\n",
    "a = Imputer().fit_transform(x_train)\n",
    "b = Imputer().fit_transform(y_train.reshape(-1,1)).ravel()"
   ]
  },
  {
   "cell_type": "code",
   "execution_count": 21,
   "metadata": {},
   "outputs": [],
   "source": [
    "stack_model = stacking(mod=[lasso, ridge, svr, ker, ela, bay], meta_model=ker)"
   ]
  },
  {
   "cell_type": "code",
   "execution_count": 22,
   "metadata": {},
   "outputs": [
    {
     "name": "stdout",
     "output_type": "stream",
     "text": [
      "[0.1027179  0.10890383 0.11692561 0.09781165 0.10390294]\n",
      "0.10605238917525298\n"
     ]
    }
   ],
   "source": [
    "print(rmse_cv(stack_model, a, b))\n",
    "print(rmse_cv(stack_model, a, b).mean())"
   ]
  },
  {
   "cell_type": "code",
   "execution_count": 23,
   "metadata": {},
   "outputs": [],
   "source": [
    "x_train_stack, x_test_stack = stack_model.get_oof(a, b, x_test)"
   ]
  },
  {
   "cell_type": "code",
   "execution_count": 24,
   "metadata": {},
   "outputs": [
    {
     "data": {
      "text/plain": [
       "((1458, 6), (1458, 410))"
      ]
     },
     "execution_count": 24,
     "metadata": {},
     "output_type": "execute_result"
    }
   ],
   "source": [
    "x_train_stack.shape, a.shape"
   ]
  },
  {
   "cell_type": "code",
   "execution_count": 25,
   "metadata": {},
   "outputs": [],
   "source": [
    "x_train_add = np.hstack((a, x_train_stack))\n",
    "x_test_add = np.hstack((x_test, x_test_stack))"
   ]
  },
  {
   "cell_type": "code",
   "execution_count": 27,
   "metadata": {},
   "outputs": [
    {
     "name": "stdout",
     "output_type": "stream",
     "text": [
      "[0.09768973 0.10428458 0.11231522 0.09333416 0.09868679]\n",
      "0.10126209427505639\n"
     ]
    }
   ],
   "source": [
    "print(rmse_cv(stack_model, x_train_add, b))\n",
    "print(rmse_cv(stack_model, x_train_add, b).mean())"
   ]
  },
  {
   "cell_type": "code",
   "execution_count": 28,
   "metadata": {},
   "outputs": [],
   "source": [
    "stack_model = stacking(mod=[lasso, ridge, svr, ker, ela, bay], meta_model=ker)"
   ]
  },
  {
   "cell_type": "code",
   "execution_count": 29,
   "metadata": {},
   "outputs": [
    {
     "data": {
      "text/plain": [
       "stacking(meta_model=KernelRidge(alpha=0.2, coef0=0.8, degree=3, gamma=None,\n",
       "                                kernel='polynomial', kernel_params=None),\n",
       "         mod=[Lasso(alpha=0.0005, copy_X=True, fit_intercept=True,\n",
       "                    max_iter=10000, normalize=False, positive=False,\n",
       "                    precompute=False, random_state=None, selection='cyclic',\n",
       "                    tol=0.0001, warm_start=False),\n",
       "              Ridge(alpha=60, copy_X=True, fit_intercept=True, max_iter...\n",
       "                         l1_ratio=0.08, max_iter=10000, normalize=False,\n",
       "                         positive=False, precompute=False, random_state=None,\n",
       "                         selection='cyclic', tol=0.0001, warm_start=False),\n",
       "              BayesianRidge(alpha_1=1e-06, alpha_2=1e-06, alpha_init=None,\n",
       "                            compute_score=False, copy_X=True,\n",
       "                            fit_intercept=True, lambda_1=1e-06, lambda_2=1e-06,\n",
       "                            lambda_init=None, n_iter=300, normalize=False,\n",
       "                            tol=0.001, verbose=False)])"
      ]
     },
     "execution_count": 29,
     "metadata": {},
     "output_type": "execute_result"
    }
   ],
   "source": [
    "stack_model.fit(a, b)"
   ]
  },
  {
   "cell_type": "code",
   "execution_count": 31,
   "metadata": {},
   "outputs": [],
   "source": [
    "pred_list = np.exp(stack_model.predict(x_test))\n",
    "test_df = pd.read_csv(\"../data/test.csv\")\n",
    "submission = pd.DataFrame({'Id':test_df.Id, 'SalePrice':pred_list})\n",
    "submission.to_csv(\"../data/submission.csv\", index=False)"
   ]
  },
  {
   "cell_type": "code",
   "execution_count": null,
   "metadata": {},
   "outputs": [],
   "source": []
  }
 ],
 "metadata": {
  "kernelspec": {
   "display_name": "Python 3",
   "language": "python",
   "name": "python3"
  },
  "language_info": {
   "codemirror_mode": {
    "name": "ipython",
    "version": 3
   },
   "file_extension": ".py",
   "mimetype": "text/x-python",
   "name": "python",
   "nbconvert_exporter": "python",
   "pygments_lexer": "ipython3",
   "version": "3.6.9"
  }
 },
 "nbformat": 4,
 "nbformat_minor": 4
}
