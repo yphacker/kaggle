{
 "cells": [
  {
   "cell_type": "markdown",
   "metadata": {},
   "source": [
    "- template\n",
    "    - [探索数据](#探索数据)\n",
    "        - [加载包和数据](#加载包和数据)\n",
    "        - [数据展示](#数据展示)\n",
    "    - [数据清洗](#数据清洗)\n",
    "    - [特征工程](#特征工程)\n",
    "    - [建立模型](#建立模型)\n",
    "        - [建模](#建模)\n",
    "        - [评估](#评估)\n",
    "        - [参数调整](#参数调整)\n",
    "    - [集成方法](#集成方法)\n",
    "    - [生成结果](#生成结果)"
   ]
  },
  {
   "cell_type": "markdown",
   "metadata": {},
   "source": [
    "## 探索数据"
   ]
  },
  {
   "cell_type": "markdown",
   "metadata": {},
   "source": [
    "### 加载包和数据"
   ]
  },
  {
   "cell_type": "code",
   "execution_count": 3,
   "metadata": {},
   "outputs": [],
   "source": [
    "# Ignore warnings\n",
    "import warnings\n",
    "warnings.filterwarnings('ignore')\n",
    "\n",
    "# Handle table-like data and matrices\n",
    "import numpy as np\n",
    "import pandas as pd\n",
    "\n",
    "# Modelling Algorithms\n",
    "from sklearn.feature_selection import SelectKBest, SelectFromModel\n",
    "from sklearn.model_selection import KFold, StratifiedKFold\n",
    "from sklearn.model_selection import GridSearchCV\n",
    "from sklearn.model_selection import cross_val_score\n",
    "from sklearn.linear_model import LinearRegression, Ridge, Lasso\n",
    "from sklearn.linear_model import LogisticRegression, LogisticRegressionCV\n",
    "from sklearn.linear_model import ElasticNet, SGDRegressor, BayesianRidge\n",
    "from sklearn.ensemble import RandomForestClassifier\n",
    "from sklearn.ensemble import RandomForestRegressor, GradientBoostingRegressor, ExtraTreesRegressor\n",
    "from sklearn.svm import SVR, LinearSVR\n",
    "from sklearn.ensemble.gradient_boosting import GradientBoostingClassifier\n",
    "from sklearn.decomposition import PCA, KernelPCA\n",
    "from sklearn.kernel_ridge import KernelRidge\n",
    "from xgboost import XGBRegressor\n",
    "\n",
    "# Modelling Helpers\n",
    "from scipy.stats import skew\n",
    "from sklearn.base import BaseEstimator, TransformerMixin, RegressorMixin, clone\n",
    "from sklearn.pipeline import Pipeline, make_pipeline\n",
    "from sklearn.preprocessing import scale, RobustScaler, MinMaxScaler, StandardScaler\n",
    "from sklearn.preprocessing import LabelEncoder, Imputer, Normalizer\n",
    "from sklearn.model_selection import train_test_split, StratifiedKFold, learning_curve\n",
    "from sklearn.feature_selection import RFECV\n",
    "from sklearn.metrics import fbeta_score, accuracy_score\n",
    "\n",
    "# Visualisation\n",
    "import matplotlib as mpl\n",
    "import matplotlib.pyplot as plt\n",
    "import matplotlib.pylab as pylab\n",
    "import seaborn as sns\n",
    "\n",
    "# Configure visualisations\n",
    "%matplotlib inline\n",
    "mpl.style.use('ggplot')\n",
    "sns.set_style('white')\n",
    "pylab.rcParams['figure.figsize'] = 8 , 6"
   ]
  },
  {
   "cell_type": "markdown",
   "metadata": {},
   "source": [
    "### 数据展示"
   ]
  },
  {
   "cell_type": "code",
   "execution_count": 6,
   "metadata": {},
   "outputs": [
    {
     "name": "stdout",
     "output_type": "stream",
     "text": [
      "   label  pixel0  pixel1  pixel2  pixel3  pixel4  pixel5  pixel6  pixel7  \\\n",
      "0      1       0       0       0       0       0       0       0       0   \n",
      "1      0       0       0       0       0       0       0       0       0   \n",
      "2      1       0       0       0       0       0       0       0       0   \n",
      "3      4       0       0       0       0       0       0       0       0   \n",
      "4      0       0       0       0       0       0       0       0       0   \n",
      "\n",
      "   pixel8    ...     pixel774  pixel775  pixel776  pixel777  pixel778  \\\n",
      "0       0    ...            0         0         0         0         0   \n",
      "1       0    ...            0         0         0         0         0   \n",
      "2       0    ...            0         0         0         0         0   \n",
      "3       0    ...            0         0         0         0         0   \n",
      "4       0    ...            0         0         0         0         0   \n",
      "\n",
      "   pixel779  pixel780  pixel781  pixel782  pixel783  \n",
      "0         0         0         0         0         0  \n",
      "1         0         0         0         0         0  \n",
      "2         0         0         0         0         0  \n",
      "3         0         0         0         0         0  \n",
      "4         0         0         0         0         0  \n",
      "\n",
      "[5 rows x 785 columns]\n",
      "(42000, 785)\n"
     ]
    }
   ],
   "source": [
    "train = pd.read_csv('data/train.csv')\n",
    "print (train.head())\n",
    "print (train.shape)"
   ]
  },
  {
   "cell_type": "markdown",
   "metadata": {},
   "source": [
    "## 数据清洗"
   ]
  },
  {
   "cell_type": "markdown",
   "metadata": {},
   "source": [
    "## 特征工程"
   ]
  },
  {
   "cell_type": "markdown",
   "metadata": {},
   "source": [
    "## 建立模型"
   ]
  },
  {
   "cell_type": "markdown",
   "metadata": {},
   "source": [
    "### 建模"
   ]
  },
  {
   "cell_type": "code",
   "execution_count": null,
   "metadata": {},
   "outputs": [],
   "source": []
  },
  {
   "cell_type": "code",
   "execution_count": null,
   "metadata": {},
   "outputs": [],
   "source": []
  },
  {
   "cell_type": "code",
   "execution_count": 1,
   "metadata": {},
   "outputs": [],
   "source": [
    "def img2vector(filename):\n",
    "    returnVect = np.zeros((1, 1024))\n",
    "    fr = open(filename)\n",
    "    for i in range(32):\n",
    "        lineStr = fr.readline()\n",
    "        for j in range(32):\n",
    "            returnVect[0, 32 * i + j] = int(lineStr[j])\n",
    "    return returnVect"
   ]
  },
  {
   "cell_type": "code",
   "execution_count": null,
   "metadata": {},
   "outputs": [],
   "source": [
    "def toInt(array):\n",
    "    array=mat(array)\n",
    "    m,n=shape(array)\n",
    "    newArray=zeros((m,n))\n",
    "    for i in xrange(m):\n",
    "        for j in xrange(n):\n",
    "                newArray[i,j]=int(array[i,j])\n",
    "    return newArray"
   ]
  },
  {
   "cell_type": "code",
   "execution_count": null,
   "metadata": {},
   "outputs": [],
   "source": [
    "def nomalizing(array):\n",
    "    m,n=shape(array)\n",
    "    for i in xrange(m):\n",
    "        for j in xrange(n):\n",
    "            if array[i,j]!=0:\n",
    "                array[i,j]=1\n",
    "    return array"
   ]
  },
  {
   "cell_type": "code",
   "execution_count": null,
   "metadata": {},
   "outputs": [],
   "source": [
    "def loadTestData():\n",
    "    l=[]\n",
    "    with open('test.csv') as file:\n",
    "        lines=csv.reader(file)\n",
    "        for line in lines:\n",
    "            l.append(line)\n",
    "     #28001*784\n",
    "    l.remove(l[0])\n",
    "    data=array(l)\n",
    "    return nomalizing(toInt(data))  "
   ]
  },
  {
   "cell_type": "code",
   "execution_count": null,
   "metadata": {},
   "outputs": [],
   "source": [
    "def classify(inX, dataSet, labels, k):\n",
    "    inX=mat(inX)\n",
    "    dataSet=mat(dataSet)\n",
    "    labels=mat(labels)\n",
    "    dataSetSize = dataSet.shape[0]                  \n",
    "    diffMat = tile(inX, (dataSetSize,1)) - dataSet   \n",
    "    sqDiffMat = array(diffMat)**2\n",
    "    sqDistances = sqDiffMat.sum(axis=1)                  \n",
    "    distances = sqDistances**0.5\n",
    "    sortedDistIndicies = distances.argsort()            \n",
    "    classCount={}                                      \n",
    "    for i in range(k):\n",
    "        voteIlabel = labels[0,sortedDistIndicies[i]]\n",
    "        classCount[voteIlabel] = classCount.get(voteIlabel,0) + 1\n",
    "    sortedClassCount = sorted(classCount.iteritems(), key=operator.itemgetter(1), reverse=True)\n",
    "    return sortedClassCount[0][0]"
   ]
  },
  {
   "cell_type": "code",
   "execution_count": null,
   "metadata": {},
   "outputs": [],
   "source": [
    "def saveResult(result):\n",
    "    with open('result.csv','wb') as myFile:    \n",
    "        myWriter=csv.writer(myFile)\n",
    "        for i in result:\n",
    "            tmp=[]\n",
    "            tmp.append(i)\n",
    "            myWriter.writerow(tmp)"
   ]
  },
  {
   "cell_type": "code",
   "execution_count": null,
   "metadata": {},
   "outputs": [],
   "source": []
  },
  {
   "cell_type": "code",
   "execution_count": null,
   "metadata": {},
   "outputs": [],
   "source": [
    "classifierResult = classify(testData[i], trainData[0:20000], trainLabel[0:20000], 5)"
   ]
  },
  {
   "cell_type": "code",
   "execution_count": null,
   "metadata": {},
   "outputs": [],
   "source": [
    "#调用scikit的knn算法包\n",
    "from sklearn.neighbors import KNeighborsClassifier  \n",
    "def knnClassify(trainData,trainLabel,testData): \n",
    "    knnClf=KNeighborsClassifier()#default:k = 5,defined by yourself:KNeighborsClassifier(n_neighbors=10)\n",
    "    knnClf.fit(trainData,ravel(trainLabel))\n",
    "    testLabel=knnClf.predict(testData)\n",
    "    saveResult(testLabel,'sklearn_knn_Result.csv')\n",
    "    return testLabel\n",
    "    \n",
    "#调用scikit的SVM算法包\n",
    "from sklearn import svm   \n",
    "def svcClassify(trainData,trainLabel,testData): \n",
    "    svcClf=svm.SVC(C=5.0) #default:C=1.0,kernel = 'rbf'. you can try kernel:‘linear’, ‘poly’, ‘rbf’, ‘sigmoid’, ‘precomputed’  \n",
    "    svcClf.fit(trainData,ravel(trainLabel))\n",
    "    testLabel=svcClf.predict(testData)\n",
    "    saveResult(testLabel,'sklearn_SVC_C=5.0_Result.csv')\n",
    "    return testLabel\n",
    "    \n",
    "#调用scikit的朴素贝叶斯算法包,GaussianNB和MultinomialNB\n",
    "from sklearn.naive_bayes import GaussianNB      #nb for 高斯分布的数据\n",
    "def GaussianNBClassify(trainData,trainLabel,testData): \n",
    "    nbClf=GaussianNB()          \n",
    "    nbClf.fit(trainData,ravel(trainLabel))\n",
    "    testLabel=nbClf.predict(testData)\n",
    "    saveResult(testLabel,'sklearn_GaussianNB_Result.csv')\n",
    "    return testLabel\n",
    "    \n",
    "from sklearn.naive_bayes import MultinomialNB   #nb for 多项式分布的数据    \n",
    "def MultinomialNBClassify(trainData,trainLabel,testData): \n",
    "    nbClf=MultinomialNB(alpha=0.1)      #default alpha=1.0,Setting alpha = 1 is called Laplace smoothing, while alpha < 1 is called Lidstone smoothing.       \n",
    "    nbClf.fit(trainData,ravel(trainLabel))\n",
    "    testLabel=nbClf.predict(testData)\n",
    "    saveResult(testLabel,'sklearn_MultinomialNB_alpha=0.1_Result.csv')\n",
    "    return testLabel\n",
    "\n",
    "\n",
    "def digitRecognition():\n",
    "    trainData,trainLabel=loadTrainData()\n",
    "    testData=loadTestData()\n",
    "    #使用不同算法\n",
    "    result1=knnClassify(trainData,trainLabel,testData)\n",
    "    result2=svcClassify(trainData,trainLabel,testData)\n",
    "    result3=GaussianNBClassify(trainData,trainLabel,testData)\n",
    "    result4=MultinomialNBClassify(trainData,trainLabel,testData)\n",
    "    \n",
    "    #将结果与跟给定的knn_benchmark对比,以result1为例\n",
    "    resultGiven=loadTestResult()\n",
    "    m,n=shape(testData)\n",
    "    different=0      #result1中与benchmark不同的label个数，初始化为0\n",
    "    for i in xrange(m):\n",
    "        if result1[i]!=resultGiven[0,i]:\n",
    "            different+=1\n",
    "    print different"
   ]
  },
  {
   "cell_type": "code",
   "execution_count": null,
   "metadata": {},
   "outputs": [],
   "source": []
  },
  {
   "cell_type": "markdown",
   "metadata": {},
   "source": [
    "### 评估"
   ]
  },
  {
   "cell_type": "markdown",
   "metadata": {},
   "source": [
    "### 参数调整"
   ]
  },
  {
   "cell_type": "markdown",
   "metadata": {},
   "source": [
    "## 集成方法"
   ]
  },
  {
   "cell_type": "markdown",
   "metadata": {},
   "source": [
    "## 生成结果"
   ]
  }
 ],
 "metadata": {
  "kernelspec": {
   "display_name": "Python 3",
   "language": "python",
   "name": "python3"
  },
  "language_info": {
   "codemirror_mode": {
    "name": "ipython",
    "version": 3
   },
   "file_extension": ".py",
   "mimetype": "text/x-python",
   "name": "python",
   "nbconvert_exporter": "python",
   "pygments_lexer": "ipython3",
   "version": "3.6.7"
  }
 },
 "nbformat": 4,
 "nbformat_minor": 2
}
