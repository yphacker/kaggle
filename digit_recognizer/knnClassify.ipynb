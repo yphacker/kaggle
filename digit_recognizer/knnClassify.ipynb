{
 "cells": [
  {
   "cell_type": "markdown",
   "metadata": {},
   "source": [
    "机器学习实战的代码"
   ]
  },
  {
   "cell_type": "code",
   "execution_count": 1,
   "metadata": {},
   "outputs": [],
   "source": [
    "import operator\n",
    "import numpy as np\n",
    "import csv\n",
    "from sklearn.naive_bayes import MultinomialNB\n",
    "from sklearn.naive_bayes import GaussianNB\n",
    "from sklearn.neighbors import KNeighborsClassifier\n",
    "from sklearn import svm"
   ]
  },
  {
   "cell_type": "code",
   "execution_count": 2,
   "metadata": {},
   "outputs": [],
   "source": [
    "def toInt(array):\n",
    "    array = np.mat(array)\n",
    "    m, n = np.shape(array)\n",
    "    newArray = np.zeros((m, n))\n",
    "    for i in range(m):\n",
    "        for j in range(n):\n",
    "            newArray[i, j] = int(array[i, j])\n",
    "    return newArray\n",
    "\n",
    "\n",
    "def nomalizing(array):\n",
    "    m, n = np.shape(array)\n",
    "    for i in range(m):\n",
    "        for j in range(n):\n",
    "            if array[i, j] != 0:\n",
    "                array[i, j] = 1\n",
    "    return array\n",
    "\n",
    "\n",
    "def loadTrainData():\n",
    "    l = []\n",
    "    with open('data/train.csv') as file:\n",
    "        lines = csv.reader(file)\n",
    "        for line in lines:\n",
    "            l.append(line)\n",
    "    l.remove(l[0])\n",
    "    l = np.array(l)\n",
    "    label = l[:, 0]\n",
    "    data = l[:, 1:]\n",
    "    return nomalizing(toInt(data)), toInt(label)\n",
    "\n",
    "\n",
    "def loadTestData():\n",
    "    l = []\n",
    "    with open('data/test.csv') as file:\n",
    "        lines = csv.reader(file)\n",
    "        for line in lines:\n",
    "            l.append(line)\n",
    "    l.remove(l[0])\n",
    "    data = np.array(l)\n",
    "    return nomalizing(toInt(data))"
   ]
  },
  {
   "cell_type": "code",
   "execution_count": 3,
   "metadata": {},
   "outputs": [],
   "source": [
    "def classify(inX, dataSet, labels, k):\n",
    "    inX = np.mat(inX)\n",
    "    dataSet = np.mat(dataSet)\n",
    "    labels = np.mat(labels)\n",
    "    dataSetSize = dataSet.shape[0]\n",
    "    diffMat = np.tile(inX, (dataSetSize, 1)) - dataSet\n",
    "    sqDiffMat = np.array(diffMat) ** 2\n",
    "    sqDistances = sqDiffMat.sum(axis=1)\n",
    "    distances = sqDistances ** 0.5\n",
    "    sortedDistIndicies = distances.argsort()\n",
    "    classCount = {}\n",
    "    for i in range(k):\n",
    "        voteIlabel = labels[sortedDistIndicies[i], 0]\n",
    "        classCount[voteIlabel] = classCount.get(voteIlabel, 0) + 1\n",
    "    sortedClassCount = sorted(classCount.items(), key=operator.itemgetter(1), reverse=True)\n",
    "    return sortedClassCount[0][0]"
   ]
  },
  {
   "cell_type": "code",
   "execution_count": 4,
   "metadata": {},
   "outputs": [],
   "source": [
    "def saveResult(result):\n",
    "    with open('data/submission.csv', 'wb') as myFile:\n",
    "        myWriter = csv.writer(myFile)\n",
    "        for i in result:\n",
    "            tmp = []\n",
    "            tmp.append(i)\n",
    "            myWriter.writerow(tmp)"
   ]
  },
  {
   "cell_type": "code",
   "execution_count": null,
   "metadata": {},
   "outputs": [],
   "source": [
    "def handwritingClassTest():\n",
    "    trainData, trainLabel = loadTrainData()\n",
    "    testData = loadTestData()\n",
    "    m, n = np.shape(testData)\n",
    "    resultList = []\n",
    "    for i in range(m):\n",
    "        classifierResult = classify(testData[i], trainData, trainLabel.transpose(), 5)\n",
    "        resultList.append(classifierResult)\n",
    "    saveResult(resultList)"
   ]
  },
  {
   "cell_type": "code",
   "execution_count": null,
   "metadata": {},
   "outputs": [],
   "source": [
    "handwritingClassTest()"
   ]
  }
 ],
 "metadata": {
  "kernelspec": {
   "display_name": "Python 3",
   "language": "python",
   "name": "python3"
  },
  "language_info": {
   "codemirror_mode": {
    "name": "ipython",
    "version": 3
   },
   "file_extension": ".py",
   "mimetype": "text/x-python",
   "name": "python",
   "nbconvert_exporter": "python",
   "pygments_lexer": "ipython3",
   "version": "3.6.7"
  }
 },
 "nbformat": 4,
 "nbformat_minor": 2
}
